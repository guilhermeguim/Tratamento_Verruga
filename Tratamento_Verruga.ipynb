{
 "cells": [
  {
   "cell_type": "markdown",
   "id": "b626b187",
   "metadata": {},
   "source": [
    "<h1>Preparação do Ambiente</h1>\n",
    "\n",
    "<p>Aqui serão carregadas as principais bibliotecas para trabalho e também será importada o dataset</p>"
   ]
  },
  {
   "cell_type": "code",
   "execution_count": 2,
   "id": "0a0990e8",
   "metadata": {},
   "outputs": [],
   "source": [
    "import numpy as np #biblioteca utilizada para algebra linear\n",
    "import pandas as pd #biblioteca para processamento de dados em planilha\n",
    "import matplotlib.pyplot as plt #biblioteca de visualização de dados\n"
   ]
  },
  {
   "cell_type": "code",
   "execution_count": 3,
   "id": "0cd652d7",
   "metadata": {},
   "outputs": [],
   "source": [
    "df = pd.read_csv(\"./Datasets/Dataset3/Immunotherapy.csv\") #importando o dataset"
   ]
  },
  {
   "cell_type": "markdown",
   "id": "1ab8194f",
   "metadata": {},
   "source": [
    "<h1>Descrição Geral do Dataset</h1>\n",
    "\n",
    "<p>Nesta etapa serão mostrados e descritos os dados do data set para que se possa entender os dados e definir como serão tratados, limpos e normalizados</p>\n"
   ]
  },
  {
   "cell_type": "markdown",
   "id": "250ab9ef",
   "metadata": {},
   "source": [
    "<h2>Sobre o Dataset</h2>\n",
    "<p>Como tumores benignos, as verrugas são produzidas pela mediação do Papilomavírus Humano (HPV) e podem crescer em todos os partes do corpo, especialmente nas mãos e pés. Existem vários métodos de tratamento desta doença. No entanto, nenhum deles podem curar todos os pacientes. Consequentemente, os médicos procuram tratamentos mais eficazes e personalizados para cada paciente. Eles estão se esforçando para descobrir quais tratamentos têm melhores impactos em um determinado paciente. O objetivo deste estudo é identificar e prever se a aplicação do tratamento de imunoterapia é adequado para dois tipos comuns de verrugas (plantar e comum). Como trabalho original, o estudo foi realizado em 90 pacientes, com verrugas plantares e comuns, que haviam sido encaminhados para a clínica de dermatologia do Hospital Ghaem, Mashhad, Irã. Neste estudo, os 90 pacientes foram tratados pelo método de imunoterapia. De acordo com os resultados obtidos, os benefícios da este sistema especialista são múltiplos: auxiliando os médicos na seleção do melhor método de tratamento, economizando tempo para pacientes, reduzindo o custo do tratamento e melhorando a qualidade do tratamento.</p>\n",
    "\n",
    "<h2>Apresentação do Dataset</h2>\n",
    "\n",
    "<p>Aqui serão exibidos os primeiros dados da tabela com a intenção de se identificar os tipos gerais de dados, as variaveis envolvidas e como estão dispostas<p>\n",
    "    "
   ]
  },
  {
   "cell_type": "code",
   "execution_count": 4,
   "id": "4a0c1f06",
   "metadata": {},
   "outputs": [
    {
     "data": {
      "text/html": [
       "<div>\n",
       "<style scoped>\n",
       "    .dataframe tbody tr th:only-of-type {\n",
       "        vertical-align: middle;\n",
       "    }\n",
       "\n",
       "    .dataframe tbody tr th {\n",
       "        vertical-align: top;\n",
       "    }\n",
       "\n",
       "    .dataframe thead th {\n",
       "        text-align: right;\n",
       "    }\n",
       "</style>\n",
       "<table border=\"1\" class=\"dataframe\">\n",
       "  <thead>\n",
       "    <tr style=\"text-align: right;\">\n",
       "      <th></th>\n",
       "      <th>sex</th>\n",
       "      <th>age</th>\n",
       "      <th>Time</th>\n",
       "      <th>Number_of_Warts</th>\n",
       "      <th>Type</th>\n",
       "      <th>Area</th>\n",
       "      <th>induration_diameter</th>\n",
       "      <th>Result_of_Treatment</th>\n",
       "    </tr>\n",
       "  </thead>\n",
       "  <tbody>\n",
       "    <tr>\n",
       "      <th>0</th>\n",
       "      <td>1</td>\n",
       "      <td>22</td>\n",
       "      <td>2,25</td>\n",
       "      <td>14</td>\n",
       "      <td>3</td>\n",
       "      <td>51</td>\n",
       "      <td>50</td>\n",
       "      <td>1</td>\n",
       "    </tr>\n",
       "    <tr>\n",
       "      <th>1</th>\n",
       "      <td>1</td>\n",
       "      <td>15</td>\n",
       "      <td>3</td>\n",
       "      <td>2</td>\n",
       "      <td>3</td>\n",
       "      <td>900</td>\n",
       "      <td>70</td>\n",
       "      <td>1</td>\n",
       "    </tr>\n",
       "    <tr>\n",
       "      <th>2</th>\n",
       "      <td>1</td>\n",
       "      <td>16</td>\n",
       "      <td>10,5</td>\n",
       "      <td>2</td>\n",
       "      <td>1</td>\n",
       "      <td>100</td>\n",
       "      <td>25</td>\n",
       "      <td>1</td>\n",
       "    </tr>\n",
       "    <tr>\n",
       "      <th>3</th>\n",
       "      <td>1</td>\n",
       "      <td>27</td>\n",
       "      <td>4,5</td>\n",
       "      <td>9</td>\n",
       "      <td>3</td>\n",
       "      <td>80</td>\n",
       "      <td>30</td>\n",
       "      <td>1</td>\n",
       "    </tr>\n",
       "    <tr>\n",
       "      <th>4</th>\n",
       "      <td>1</td>\n",
       "      <td>20</td>\n",
       "      <td>8</td>\n",
       "      <td>6</td>\n",
       "      <td>1</td>\n",
       "      <td>45</td>\n",
       "      <td>8</td>\n",
       "      <td>1</td>\n",
       "    </tr>\n",
       "    <tr>\n",
       "      <th>5</th>\n",
       "      <td>1</td>\n",
       "      <td>15</td>\n",
       "      <td>5</td>\n",
       "      <td>3</td>\n",
       "      <td>3</td>\n",
       "      <td>84</td>\n",
       "      <td>7</td>\n",
       "      <td>1</td>\n",
       "    </tr>\n",
       "    <tr>\n",
       "      <th>6</th>\n",
       "      <td>1</td>\n",
       "      <td>35</td>\n",
       "      <td>9,75</td>\n",
       "      <td>2</td>\n",
       "      <td>2</td>\n",
       "      <td>8</td>\n",
       "      <td>6</td>\n",
       "      <td>1</td>\n",
       "    </tr>\n",
       "    <tr>\n",
       "      <th>7</th>\n",
       "      <td>2</td>\n",
       "      <td>28</td>\n",
       "      <td>7,5</td>\n",
       "      <td>4</td>\n",
       "      <td>1</td>\n",
       "      <td>9</td>\n",
       "      <td>2</td>\n",
       "      <td>1</td>\n",
       "    </tr>\n",
       "    <tr>\n",
       "      <th>8</th>\n",
       "      <td>2</td>\n",
       "      <td>19</td>\n",
       "      <td>6</td>\n",
       "      <td>2</td>\n",
       "      <td>1</td>\n",
       "      <td>225</td>\n",
       "      <td>8</td>\n",
       "      <td>1</td>\n",
       "    </tr>\n",
       "    <tr>\n",
       "      <th>9</th>\n",
       "      <td>2</td>\n",
       "      <td>32</td>\n",
       "      <td>12</td>\n",
       "      <td>6</td>\n",
       "      <td>3</td>\n",
       "      <td>35</td>\n",
       "      <td>5</td>\n",
       "      <td>0</td>\n",
       "    </tr>\n",
       "  </tbody>\n",
       "</table>\n",
       "</div>"
      ],
      "text/plain": [
       "   sex  age  Time  Number_of_Warts  Type  Area  induration_diameter  \\\n",
       "0    1   22  2,25               14     3    51                   50   \n",
       "1    1   15     3                2     3   900                   70   \n",
       "2    1   16  10,5                2     1   100                   25   \n",
       "3    1   27   4,5                9     3    80                   30   \n",
       "4    1   20     8                6     1    45                    8   \n",
       "5    1   15     5                3     3    84                    7   \n",
       "6    1   35  9,75                2     2     8                    6   \n",
       "7    2   28   7,5                4     1     9                    2   \n",
       "8    2   19     6                2     1   225                    8   \n",
       "9    2   32    12                6     3    35                    5   \n",
       "\n",
       "   Result_of_Treatment  \n",
       "0                    1  \n",
       "1                    1  \n",
       "2                    1  \n",
       "3                    1  \n",
       "4                    1  \n",
       "5                    1  \n",
       "6                    1  \n",
       "7                    1  \n",
       "8                    1  \n",
       "9                    0  "
      ]
     },
     "execution_count": 4,
     "metadata": {},
     "output_type": "execute_result"
    }
   ],
   "source": [
    "df.head(10) #visualiza as primeiras 10 linhas da tabela"
   ]
  },
  {
   "cell_type": "markdown",
   "id": "f65734ed",
   "metadata": {},
   "source": [
    "<h2>O dataset apresenta as seguintes colunas e seus significados respectivamente.</h2>\n",
    "\n",
    "<ol>\n",
    "    <li><p><strong>Sex:</strong> Identifica o sexo do paciente analisado, sendo: valor 1 para masculino e 2 para feminino.</p></li>\n",
    "    <li><p><strong>Age:</strong> Representa a idade do paciente em anos.</p></li>\n",
    "    <li><p><strong>Time:</strong> Tempo decorrido antes do tratamento em meses.</p></li>\n",
    "    <li><p><strong>Number_of_Warts:</strong> Representa a quantidade de verrugas presentes em cada paciente.</p></li>\n",
    "    <li><p><strong>Type:</strong> Identifica o tipo de verruga presente no paciente, sendo: 1 para verrugas do tipo comum, 2 para verrugas do tipo plantar e 3 para a presença dos dois tipos anteriores em conjunto.</p></li>\n",
    "    <li><p><strong>Area:</strong> Representa a area da superficie da maior verruga presente no paciente em mm².</p></li>\n",
    "    <li><p><strong>induration_diameter:</strong> Representa o diametro da area endurecida da maior verruga, medido no teste inicial.</p></li>\n",
    "    <li><p><strong>Result_of_Treatment:</strong> Identifica o resultado do tratamento de imunoterapia, sendo: 0 para fracasso e 1 para sucesso</p></li>\n",
    "</ol>\n"
   ]
  },
  {
   "cell_type": "code",
   "execution_count": 5,
   "id": "bc3345ce",
   "metadata": {},
   "outputs": [
    {
     "name": "stdout",
     "output_type": "stream",
     "text": [
      "<class 'pandas.core.frame.DataFrame'>\n",
      "RangeIndex: 90 entries, 0 to 89\n",
      "Data columns (total 8 columns):\n",
      " #   Column               Non-Null Count  Dtype \n",
      "---  ------               --------------  ----- \n",
      " 0   sex                  90 non-null     int64 \n",
      " 1   age                  90 non-null     int64 \n",
      " 2   Time                 90 non-null     object\n",
      " 3   Number_of_Warts      90 non-null     int64 \n",
      " 4   Type                 90 non-null     int64 \n",
      " 5   Area                 90 non-null     int64 \n",
      " 6   induration_diameter  90 non-null     int64 \n",
      " 7   Result_of_Treatment  90 non-null     int64 \n",
      "dtypes: int64(7), object(1)\n",
      "memory usage: 5.8+ KB\n"
     ]
    }
   ],
   "source": [
    "df.info() #exibe algumas informações sobre o dataset"
   ]
  },
  {
   "cell_type": "markdown",
   "id": "cf2fbbc1",
   "metadata": {},
   "source": [
    "<p>Existem na tabela 90 instancias, sendo que, em nenhuma delas existem campos com valores nulos, dessa forma, não precisaremos descartar linhas ou preencher campos artificialmente</p>\n",
    "<p>Teremos que tratar a coluna Time pois seu tipo de dado foi reconhecido como objetc, impossibilitando a execução de cálculos</p>\n",
    "\n",
    "<p>----------------------------------------------------------------------------------------------------------------------------------------------</p>\n"
   ]
  },
  {
   "cell_type": "markdown",
   "id": "7e0ea09a",
   "metadata": {},
   "source": [
    "<h1>Fase de pré-processamento</h1>\n"
   ]
  },
  {
   "cell_type": "markdown",
   "id": "d6b7afe9",
   "metadata": {},
   "source": [
    "<h2>Limpeza dos Dados</h2>\n",
    "\n",
    "<p>Não será excluído nenhum dado do dataset, consideramos que todas as colunas podem sim ter um impacto no resultado final da classificação e devem ser usados para isso, por meio da função Info, pudemos ver também que a planilha não apresenta dados nulos, logo também não será necessário excluir nenhuma linha</p>"
   ]
  },
  {
   "cell_type": "markdown",
   "id": "4f7a39a4",
   "metadata": {},
   "source": [
    "<h2>Normalização dos Dados</h2>\n",
    "\n",
    "<p>O tipo de dados da coluna Time foi identificada como Object, essa coluna deverá ser convertida para float para que seja possivel realizar os calculos com ela. Para isso é necessário primeiro substituir as virgulas por ponto, para que possa se adequar ao formato de números decimais do Python</p>\n",
    "<p>Os dados que poderia ter sido inseridos de forma categórica como \"Sex\", \"Type\" e \"Result_of_Treatment\" já estão no dataset com valores numéricos atribuidos, então não será necessária nenhuma adaptação</p>"
   ]
  },
  {
   "cell_type": "code",
   "execution_count": 6,
   "id": "29f96bc0",
   "metadata": {},
   "outputs": [
    {
     "name": "stdout",
     "output_type": "stream",
     "text": [
      "<class 'pandas.core.frame.DataFrame'>\n",
      "RangeIndex: 90 entries, 0 to 89\n",
      "Data columns (total 8 columns):\n",
      " #   Column               Non-Null Count  Dtype  \n",
      "---  ------               --------------  -----  \n",
      " 0   sex                  90 non-null     int64  \n",
      " 1   age                  90 non-null     int64  \n",
      " 2   Time                 90 non-null     float64\n",
      " 3   Number_of_Warts      90 non-null     int64  \n",
      " 4   Type                 90 non-null     int64  \n",
      " 5   Area                 90 non-null     int64  \n",
      " 6   induration_diameter  90 non-null     int64  \n",
      " 7   Result_of_Treatment  90 non-null     int64  \n",
      "dtypes: float64(1), int64(7)\n",
      "memory usage: 5.8 KB\n"
     ]
    },
    {
     "data": {
      "text/html": [
       "<div>\n",
       "<style scoped>\n",
       "    .dataframe tbody tr th:only-of-type {\n",
       "        vertical-align: middle;\n",
       "    }\n",
       "\n",
       "    .dataframe tbody tr th {\n",
       "        vertical-align: top;\n",
       "    }\n",
       "\n",
       "    .dataframe thead th {\n",
       "        text-align: right;\n",
       "    }\n",
       "</style>\n",
       "<table border=\"1\" class=\"dataframe\">\n",
       "  <thead>\n",
       "    <tr style=\"text-align: right;\">\n",
       "      <th></th>\n",
       "      <th>sex</th>\n",
       "      <th>age</th>\n",
       "      <th>Time</th>\n",
       "      <th>Number_of_Warts</th>\n",
       "      <th>Type</th>\n",
       "      <th>Area</th>\n",
       "      <th>induration_diameter</th>\n",
       "      <th>Result_of_Treatment</th>\n",
       "    </tr>\n",
       "  </thead>\n",
       "  <tbody>\n",
       "    <tr>\n",
       "      <th>0</th>\n",
       "      <td>1</td>\n",
       "      <td>22</td>\n",
       "      <td>2.25</td>\n",
       "      <td>14</td>\n",
       "      <td>3</td>\n",
       "      <td>51</td>\n",
       "      <td>50</td>\n",
       "      <td>1</td>\n",
       "    </tr>\n",
       "    <tr>\n",
       "      <th>1</th>\n",
       "      <td>1</td>\n",
       "      <td>15</td>\n",
       "      <td>3.00</td>\n",
       "      <td>2</td>\n",
       "      <td>3</td>\n",
       "      <td>900</td>\n",
       "      <td>70</td>\n",
       "      <td>1</td>\n",
       "    </tr>\n",
       "    <tr>\n",
       "      <th>2</th>\n",
       "      <td>1</td>\n",
       "      <td>16</td>\n",
       "      <td>10.50</td>\n",
       "      <td>2</td>\n",
       "      <td>1</td>\n",
       "      <td>100</td>\n",
       "      <td>25</td>\n",
       "      <td>1</td>\n",
       "    </tr>\n",
       "    <tr>\n",
       "      <th>3</th>\n",
       "      <td>1</td>\n",
       "      <td>27</td>\n",
       "      <td>4.50</td>\n",
       "      <td>9</td>\n",
       "      <td>3</td>\n",
       "      <td>80</td>\n",
       "      <td>30</td>\n",
       "      <td>1</td>\n",
       "    </tr>\n",
       "    <tr>\n",
       "      <th>4</th>\n",
       "      <td>1</td>\n",
       "      <td>20</td>\n",
       "      <td>8.00</td>\n",
       "      <td>6</td>\n",
       "      <td>1</td>\n",
       "      <td>45</td>\n",
       "      <td>8</td>\n",
       "      <td>1</td>\n",
       "    </tr>\n",
       "    <tr>\n",
       "      <th>5</th>\n",
       "      <td>1</td>\n",
       "      <td>15</td>\n",
       "      <td>5.00</td>\n",
       "      <td>3</td>\n",
       "      <td>3</td>\n",
       "      <td>84</td>\n",
       "      <td>7</td>\n",
       "      <td>1</td>\n",
       "    </tr>\n",
       "    <tr>\n",
       "      <th>6</th>\n",
       "      <td>1</td>\n",
       "      <td>35</td>\n",
       "      <td>9.75</td>\n",
       "      <td>2</td>\n",
       "      <td>2</td>\n",
       "      <td>8</td>\n",
       "      <td>6</td>\n",
       "      <td>1</td>\n",
       "    </tr>\n",
       "    <tr>\n",
       "      <th>7</th>\n",
       "      <td>2</td>\n",
       "      <td>28</td>\n",
       "      <td>7.50</td>\n",
       "      <td>4</td>\n",
       "      <td>1</td>\n",
       "      <td>9</td>\n",
       "      <td>2</td>\n",
       "      <td>1</td>\n",
       "    </tr>\n",
       "    <tr>\n",
       "      <th>8</th>\n",
       "      <td>2</td>\n",
       "      <td>19</td>\n",
       "      <td>6.00</td>\n",
       "      <td>2</td>\n",
       "      <td>1</td>\n",
       "      <td>225</td>\n",
       "      <td>8</td>\n",
       "      <td>1</td>\n",
       "    </tr>\n",
       "    <tr>\n",
       "      <th>9</th>\n",
       "      <td>2</td>\n",
       "      <td>32</td>\n",
       "      <td>12.00</td>\n",
       "      <td>6</td>\n",
       "      <td>3</td>\n",
       "      <td>35</td>\n",
       "      <td>5</td>\n",
       "      <td>0</td>\n",
       "    </tr>\n",
       "  </tbody>\n",
       "</table>\n",
       "</div>"
      ],
      "text/plain": [
       "   sex  age   Time  Number_of_Warts  Type  Area  induration_diameter  \\\n",
       "0    1   22   2.25               14     3    51                   50   \n",
       "1    1   15   3.00                2     3   900                   70   \n",
       "2    1   16  10.50                2     1   100                   25   \n",
       "3    1   27   4.50                9     3    80                   30   \n",
       "4    1   20   8.00                6     1    45                    8   \n",
       "5    1   15   5.00                3     3    84                    7   \n",
       "6    1   35   9.75                2     2     8                    6   \n",
       "7    2   28   7.50                4     1     9                    2   \n",
       "8    2   19   6.00                2     1   225                    8   \n",
       "9    2   32  12.00                6     3    35                    5   \n",
       "\n",
       "   Result_of_Treatment  \n",
       "0                    1  \n",
       "1                    1  \n",
       "2                    1  \n",
       "3                    1  \n",
       "4                    1  \n",
       "5                    1  \n",
       "6                    1  \n",
       "7                    1  \n",
       "8                    1  \n",
       "9                    0  "
      ]
     },
     "execution_count": 6,
     "metadata": {},
     "output_type": "execute_result"
    }
   ],
   "source": [
    "#a coluna Time apresenta o os dados com \",\", é preciso converter para \".\" para que o python entenda como numero\n",
    "df['Time'] = df['Time'].str.replace(',', '.') \n",
    "\n",
    "#convertendo a coluna Time para o tipo numérico (float)\n",
    "df['Time'] = pd.to_numeric(df['Time'],errors = 'coerce')\n",
    "\n",
    "df.info()\n",
    "\n",
    "df.head(10)"
   ]
  },
  {
   "cell_type": "markdown",
   "id": "ffcf999b",
   "metadata": {},
   "source": [
    "\n",
    "<h2>Etapa de Avaliação</h2>"
   ]
  },
  {
   "cell_type": "code",
   "execution_count": 7,
   "id": "15b40984",
   "metadata": {
    "scrolled": true
   },
   "outputs": [
    {
     "data": {
      "text/html": [
       "<div>\n",
       "<style scoped>\n",
       "    .dataframe tbody tr th:only-of-type {\n",
       "        vertical-align: middle;\n",
       "    }\n",
       "\n",
       "    .dataframe tbody tr th {\n",
       "        vertical-align: top;\n",
       "    }\n",
       "\n",
       "    .dataframe thead th {\n",
       "        text-align: right;\n",
       "    }\n",
       "</style>\n",
       "<table border=\"1\" class=\"dataframe\">\n",
       "  <thead>\n",
       "    <tr style=\"text-align: right;\">\n",
       "      <th></th>\n",
       "      <th>sex</th>\n",
       "      <th>age</th>\n",
       "      <th>Time</th>\n",
       "      <th>Number_of_Warts</th>\n",
       "      <th>Type</th>\n",
       "      <th>Area</th>\n",
       "      <th>induration_diameter</th>\n",
       "      <th>Result_of_Treatment</th>\n",
       "    </tr>\n",
       "  </thead>\n",
       "  <tbody>\n",
       "    <tr>\n",
       "      <th>count</th>\n",
       "      <td>90.000000</td>\n",
       "      <td>90.000000</td>\n",
       "      <td>90.000000</td>\n",
       "      <td>90.000000</td>\n",
       "      <td>90.000000</td>\n",
       "      <td>90.000000</td>\n",
       "      <td>90.000000</td>\n",
       "      <td>90.000000</td>\n",
       "    </tr>\n",
       "    <tr>\n",
       "      <th>mean</th>\n",
       "      <td>1.544444</td>\n",
       "      <td>31.044444</td>\n",
       "      <td>7.230556</td>\n",
       "      <td>6.144444</td>\n",
       "      <td>1.711111</td>\n",
       "      <td>95.700000</td>\n",
       "      <td>14.333333</td>\n",
       "      <td>0.788889</td>\n",
       "    </tr>\n",
       "    <tr>\n",
       "      <th>std</th>\n",
       "      <td>0.500811</td>\n",
       "      <td>12.235435</td>\n",
       "      <td>3.098166</td>\n",
       "      <td>4.212238</td>\n",
       "      <td>0.824409</td>\n",
       "      <td>136.614643</td>\n",
       "      <td>17.217707</td>\n",
       "      <td>0.410383</td>\n",
       "    </tr>\n",
       "    <tr>\n",
       "      <th>min</th>\n",
       "      <td>1.000000</td>\n",
       "      <td>15.000000</td>\n",
       "      <td>1.000000</td>\n",
       "      <td>1.000000</td>\n",
       "      <td>1.000000</td>\n",
       "      <td>6.000000</td>\n",
       "      <td>2.000000</td>\n",
       "      <td>0.000000</td>\n",
       "    </tr>\n",
       "    <tr>\n",
       "      <th>25%</th>\n",
       "      <td>1.000000</td>\n",
       "      <td>20.250000</td>\n",
       "      <td>5.000000</td>\n",
       "      <td>2.000000</td>\n",
       "      <td>1.000000</td>\n",
       "      <td>35.500000</td>\n",
       "      <td>5.000000</td>\n",
       "      <td>1.000000</td>\n",
       "    </tr>\n",
       "    <tr>\n",
       "      <th>50%</th>\n",
       "      <td>2.000000</td>\n",
       "      <td>28.500000</td>\n",
       "      <td>7.750000</td>\n",
       "      <td>6.000000</td>\n",
       "      <td>1.000000</td>\n",
       "      <td>53.000000</td>\n",
       "      <td>7.000000</td>\n",
       "      <td>1.000000</td>\n",
       "    </tr>\n",
       "    <tr>\n",
       "      <th>75%</th>\n",
       "      <td>2.000000</td>\n",
       "      <td>41.750000</td>\n",
       "      <td>9.937500</td>\n",
       "      <td>8.750000</td>\n",
       "      <td>2.000000</td>\n",
       "      <td>80.750000</td>\n",
       "      <td>9.000000</td>\n",
       "      <td>1.000000</td>\n",
       "    </tr>\n",
       "    <tr>\n",
       "      <th>max</th>\n",
       "      <td>2.000000</td>\n",
       "      <td>56.000000</td>\n",
       "      <td>12.000000</td>\n",
       "      <td>19.000000</td>\n",
       "      <td>3.000000</td>\n",
       "      <td>900.000000</td>\n",
       "      <td>70.000000</td>\n",
       "      <td>1.000000</td>\n",
       "    </tr>\n",
       "  </tbody>\n",
       "</table>\n",
       "</div>"
      ],
      "text/plain": [
       "             sex        age       Time  Number_of_Warts       Type  \\\n",
       "count  90.000000  90.000000  90.000000        90.000000  90.000000   \n",
       "mean    1.544444  31.044444   7.230556         6.144444   1.711111   \n",
       "std     0.500811  12.235435   3.098166         4.212238   0.824409   \n",
       "min     1.000000  15.000000   1.000000         1.000000   1.000000   \n",
       "25%     1.000000  20.250000   5.000000         2.000000   1.000000   \n",
       "50%     2.000000  28.500000   7.750000         6.000000   1.000000   \n",
       "75%     2.000000  41.750000   9.937500         8.750000   2.000000   \n",
       "max     2.000000  56.000000  12.000000        19.000000   3.000000   \n",
       "\n",
       "             Area  induration_diameter  Result_of_Treatment  \n",
       "count   90.000000            90.000000            90.000000  \n",
       "mean    95.700000            14.333333             0.788889  \n",
       "std    136.614643            17.217707             0.410383  \n",
       "min      6.000000             2.000000             0.000000  \n",
       "25%     35.500000             5.000000             1.000000  \n",
       "50%     53.000000             7.000000             1.000000  \n",
       "75%     80.750000             9.000000             1.000000  \n",
       "max    900.000000            70.000000             1.000000  "
      ]
     },
     "execution_count": 7,
     "metadata": {},
     "output_type": "execute_result"
    }
   ],
   "source": [
    "df.describe() #exibe as informações de estatística básica em nosso dataset"
   ]
  },
  {
   "cell_type": "markdown",
   "id": "5cd753e4",
   "metadata": {},
   "source": [
    "<p>Aqui analisamos os dados em uma visão geral, dessa análise podemos concluir valores máximos e mínimos estudados e também as médias de valores</p>\n",
    "\n",
    "<p>Podemos extrair também que algumas colunas como \"Area\" e \"induration_diameter\" apresentam alto desvio padrão, ou seja, os valores de seus dados variam muito entre sí.</p>"
   ]
  },
  {
   "cell_type": "markdown",
   "id": "37382f08",
   "metadata": {},
   "source": [
    "<h2>Matriz de Correlação</h2>"
   ]
  },
  {
   "cell_type": "code",
   "execution_count": 8,
   "id": "e33e15d8",
   "metadata": {},
   "outputs": [
    {
     "data": {
      "text/html": [
       "<div>\n",
       "<style scoped>\n",
       "    .dataframe tbody tr th:only-of-type {\n",
       "        vertical-align: middle;\n",
       "    }\n",
       "\n",
       "    .dataframe tbody tr th {\n",
       "        vertical-align: top;\n",
       "    }\n",
       "\n",
       "    .dataframe thead th {\n",
       "        text-align: right;\n",
       "    }\n",
       "</style>\n",
       "<table border=\"1\" class=\"dataframe\">\n",
       "  <thead>\n",
       "    <tr style=\"text-align: right;\">\n",
       "      <th></th>\n",
       "      <th>sex</th>\n",
       "      <th>age</th>\n",
       "      <th>Time</th>\n",
       "      <th>Number_of_Warts</th>\n",
       "      <th>Type</th>\n",
       "      <th>Area</th>\n",
       "      <th>induration_diameter</th>\n",
       "      <th>Result_of_Treatment</th>\n",
       "    </tr>\n",
       "  </thead>\n",
       "  <tbody>\n",
       "    <tr>\n",
       "      <th>sex</th>\n",
       "      <td>1.000000</td>\n",
       "      <td>0.043682</td>\n",
       "      <td>-0.014825</td>\n",
       "      <td>0.100785</td>\n",
       "      <td>-0.104623</td>\n",
       "      <td>-0.115664</td>\n",
       "      <td>0.015202</td>\n",
       "      <td>0.018831</td>\n",
       "    </tr>\n",
       "    <tr>\n",
       "      <th>age</th>\n",
       "      <td>0.043682</td>\n",
       "      <td>1.000000</td>\n",
       "      <td>0.188981</td>\n",
       "      <td>0.000092</td>\n",
       "      <td>-0.056636</td>\n",
       "      <td>-0.064334</td>\n",
       "      <td>-0.007005</td>\n",
       "      <td>-0.188314</td>\n",
       "    </tr>\n",
       "    <tr>\n",
       "      <th>Time</th>\n",
       "      <td>-0.014825</td>\n",
       "      <td>0.188981</td>\n",
       "      <td>1.000000</td>\n",
       "      <td>0.050800</td>\n",
       "      <td>-0.262870</td>\n",
       "      <td>-0.047254</td>\n",
       "      <td>-0.183656</td>\n",
       "      <td>-0.361172</td>\n",
       "    </tr>\n",
       "    <tr>\n",
       "      <th>Number_of_Warts</th>\n",
       "      <td>0.100785</td>\n",
       "      <td>0.000092</td>\n",
       "      <td>0.050800</td>\n",
       "      <td>1.000000</td>\n",
       "      <td>0.148047</td>\n",
       "      <td>-0.107528</td>\n",
       "      <td>0.062383</td>\n",
       "      <td>-0.047160</td>\n",
       "    </tr>\n",
       "    <tr>\n",
       "      <th>Type</th>\n",
       "      <td>-0.104623</td>\n",
       "      <td>-0.056636</td>\n",
       "      <td>-0.262870</td>\n",
       "      <td>0.148047</td>\n",
       "      <td>1.000000</td>\n",
       "      <td>-0.042080</td>\n",
       "      <td>0.205546</td>\n",
       "      <td>0.083396</td>\n",
       "    </tr>\n",
       "    <tr>\n",
       "      <th>Area</th>\n",
       "      <td>-0.115664</td>\n",
       "      <td>-0.064334</td>\n",
       "      <td>-0.047254</td>\n",
       "      <td>-0.107528</td>\n",
       "      <td>-0.042080</td>\n",
       "      <td>1.000000</td>\n",
       "      <td>0.119262</td>\n",
       "      <td>0.043349</td>\n",
       "    </tr>\n",
       "    <tr>\n",
       "      <th>induration_diameter</th>\n",
       "      <td>0.015202</td>\n",
       "      <td>-0.007005</td>\n",
       "      <td>-0.183656</td>\n",
       "      <td>0.062383</td>\n",
       "      <td>0.205546</td>\n",
       "      <td>0.119262</td>\n",
       "      <td>1.000000</td>\n",
       "      <td>-0.031273</td>\n",
       "    </tr>\n",
       "    <tr>\n",
       "      <th>Result_of_Treatment</th>\n",
       "      <td>0.018831</td>\n",
       "      <td>-0.188314</td>\n",
       "      <td>-0.361172</td>\n",
       "      <td>-0.047160</td>\n",
       "      <td>0.083396</td>\n",
       "      <td>0.043349</td>\n",
       "      <td>-0.031273</td>\n",
       "      <td>1.000000</td>\n",
       "    </tr>\n",
       "  </tbody>\n",
       "</table>\n",
       "</div>"
      ],
      "text/plain": [
       "                          sex       age      Time  Number_of_Warts      Type  \\\n",
       "sex                  1.000000  0.043682 -0.014825         0.100785 -0.104623   \n",
       "age                  0.043682  1.000000  0.188981         0.000092 -0.056636   \n",
       "Time                -0.014825  0.188981  1.000000         0.050800 -0.262870   \n",
       "Number_of_Warts      0.100785  0.000092  0.050800         1.000000  0.148047   \n",
       "Type                -0.104623 -0.056636 -0.262870         0.148047  1.000000   \n",
       "Area                -0.115664 -0.064334 -0.047254        -0.107528 -0.042080   \n",
       "induration_diameter  0.015202 -0.007005 -0.183656         0.062383  0.205546   \n",
       "Result_of_Treatment  0.018831 -0.188314 -0.361172        -0.047160  0.083396   \n",
       "\n",
       "                         Area  induration_diameter  Result_of_Treatment  \n",
       "sex                 -0.115664             0.015202             0.018831  \n",
       "age                 -0.064334            -0.007005            -0.188314  \n",
       "Time                -0.047254            -0.183656            -0.361172  \n",
       "Number_of_Warts     -0.107528             0.062383            -0.047160  \n",
       "Type                -0.042080             0.205546             0.083396  \n",
       "Area                 1.000000             0.119262             0.043349  \n",
       "induration_diameter  0.119262             1.000000            -0.031273  \n",
       "Result_of_Treatment  0.043349            -0.031273             1.000000  "
      ]
     },
     "execution_count": 8,
     "metadata": {},
     "output_type": "execute_result"
    }
   ],
   "source": [
    "df.corr()#exibe a matriz de correlação"
   ]
  },
  {
   "cell_type": "markdown",
   "id": "a092b95d",
   "metadata": {},
   "source": [
    "<p>Tentamos identificar se existe alguma correlação linear entre as colunas de dados, aparentemente podem existir as seguintes correlações que deverão receber mais atenção na etapa de análise.</p>\n",
    "\n",
    "<ol>\n",
    "    <li>sex - Number_of_Warts</li>\n",
    "    <li>sex - Type</li>\n",
    "    <li>sex - Area</li>\n",
    "    <li>Age - Result_of_Treatment</li>\n",
    "    <li>Number_of_Warts - Type</li>\n",
    "    <li>Number_of_Warts - Area</li>\n",
    "    <li>Type - induration_diameter</li>\n",
    "    <li>Area - induration_diameter</li>\n",
    "</ol>\n",
    "\n",
    "<p>A coluna <strong>\"Time\"</strong> aparenta ter maior correlação linear com as outras colunas</p>\n",
    "\n",
    "<p>Porém ainda assim são relações fracas.</p>\n"
   ]
  },
  {
   "cell_type": "markdown",
   "id": "d8b11f72",
   "metadata": {},
   "source": [
    "<h2>Apresentação Visual dos Dados</h2>\n",
    "\n",
    "<p>A seguir serão apresentados os dados agregados de forma simples, isso servirá para identificarmos como está nosso dataset</p>"
   ]
  },
  {
   "cell_type": "code",
   "execution_count": 9,
   "id": "2bf35784",
   "metadata": {},
   "outputs": [
    {
     "data": {
      "image/png": "[encoded data removed]",
      "text/plain": [
       "<Figure size 640x480 with 1 Axes>"
      ]
     },
     "metadata": {},
     "output_type": "display_data"
    }
   ],
   "source": [
    "sex = df[\"sex\"].value_counts().sort_index()\n",
    "sex.plot.bar()\n",
    "plt.title(\"sex\")\n",
    "plt.show()"
   ]
  },
  {
   "cell_type": "code",
   "execution_count": 10,
   "id": "66bbc702",
   "metadata": {},
   "outputs": [
    {
     "data": {
      "image/png": "[encoded data removed]",
      "text/plain": [
       "<Figure size 640x480 with 1 Axes>"
      ]
     },
     "metadata": {},
     "output_type": "display_data"
    }
   ],
   "source": [
    "age = df[\"age\"].value_counts().sort_index()\n",
    "age.plot.bar()\n",
    "plt.title(\"age\")\n",
    "plt.show()\n"
   ]
  },
  {
   "cell_type": "code",
   "execution_count": 11,
   "id": "a5e6d3b9",
   "metadata": {},
   "outputs": [
    {
     "data": {
      "text/plain": [
       "<function matplotlib.pyplot.show(close=None, block=None)>"
      ]
     },
     "execution_count": 11,
     "metadata": {},
     "output_type": "execute_result"
    },
    {
     "data": {
      "image/png": "[encoded data removed]",
      "text/plain": [
       "<Figure size 640x480 with 1 Axes>"
      ]
     },
     "metadata": {},
     "output_type": "display_data"
    }
   ],
   "source": [
    "plt.hist(df[\"Time\"],15,rwidth=0.9) #exibe o histograma com 15 classes)\n",
    "plt.title(\"Time\")\n",
    "plt.show\n"
   ]
  },
  {
   "cell_type": "code",
   "execution_count": 12,
   "id": "433c507e",
   "metadata": {},
   "outputs": [
    {
     "data": {
      "image/png": "[encoded data removed]",
      "text/plain": [
       "<Figure size 640x480 with 1 Axes>"
      ]
     },
     "metadata": {},
     "output_type": "display_data"
    }
   ],
   "source": [
    "Number_of_Warts = df[\"Number_of_Warts\"].value_counts().sort_index()\n",
    "Number_of_Warts.plot.bar()\n",
    "plt.title(\"Number_of_Warts\")\n",
    "plt.show()\n"
   ]
  },
  {
   "cell_type": "code",
   "execution_count": 13,
   "id": "9152d6da",
   "metadata": {},
   "outputs": [
    {
     "data": {
      "image/png": "[encoded data removed]",
      "text/plain": [
       "<Figure size 640x480 with 1 Axes>"
      ]
     },
     "metadata": {},
     "output_type": "display_data"
    }
   ],
   "source": [
    "Type = df[\"Type\"].value_counts().sort_index()\n",
    "Type.plot.bar()\n",
    "plt.title(\"Type\")\n",
    "plt.show()"
   ]
  },
  {
   "cell_type": "code",
   "execution_count": 14,
   "id": "3803fd46",
   "metadata": {},
   "outputs": [
    {
     "data": {
      "text/plain": [
       "<function matplotlib.pyplot.show(close=None, block=None)>"
      ]
     },
     "execution_count": 14,
     "metadata": {},
     "output_type": "execute_result"
    },
    {
     "data": {
      "image/png": "[encoded data removed]",
      "text/plain": [
       "<Figure size 640x480 with 1 Axes>"
      ]
     },
     "metadata": {},
     "output_type": "display_data"
    }
   ],
   "source": [
    "plt.hist(df[\"Area\"],15,rwidth=0.9) #exibe o histograma com 15 classes)\n",
    "plt.title(\"Area\")\n",
    "plt.show"
   ]
  },
  {
   "cell_type": "code",
   "execution_count": 15,
   "id": "90eccb88",
   "metadata": {},
   "outputs": [
    {
     "data": {
      "image/png": "[encoded data removed]",
      "text/plain": [
       "<Figure size 640x480 with 1 Axes>"
      ]
     },
     "metadata": {},
     "output_type": "display_data"
    }
   ],
   "source": [
    "induration_diameter = df[\"induration_diameter\"].value_counts().sort_index()\n",
    "induration_diameter.plot.bar()\n",
    "plt.title(\"induration_diameter\")\n",
    "plt.show()"
   ]
  },
  {
   "cell_type": "code",
   "execution_count": 16,
   "id": "2c46836c",
   "metadata": {},
   "outputs": [
    {
     "data": {
      "image/png": "[encoded data removed]",
      "text/plain": [
       "<Figure size 640x480 with 1 Axes>"
      ]
     },
     "metadata": {},
     "output_type": "display_data"
    }
   ],
   "source": [
    "Result_of_Treatment = df[\"Result_of_Treatment\"].value_counts().sort_index()\n",
    "Result_of_Treatment.plot.bar()\n",
    "plt.title(\"Result_of_Treatment\")\n",
    "plt.show()\n"
   ]
  },
  {
   "cell_type": "markdown",
   "id": "05e3f647",
   "metadata": {},
   "source": [
    "<p>Essa visualização do resultado nos mostra que nosso dataset é desbalanceado, o que pode prejudicar a implementação de alguns modelos, em uma das análises finais será feito o balanceamento via SMOTE para verificação do impacto</p>"
   ]
  },
  {
   "cell_type": "markdown",
   "id": "bbdc5e4c",
   "metadata": {},
   "source": [
    "<p>A seguir exibiremos todas as categorias agrupados por Sucesso ou Fracasso do tratamento, isso nos ajudará a identificar quais variaveis maior impacto no resultado final</p>"
   ]
  },
  {
   "cell_type": "code",
   "execution_count": 17,
   "id": "7ba93f39",
   "metadata": {},
   "outputs": [],
   "source": [
    "df_resultado_sucesso = df[df[\"Result_of_Treatment\"]==1]\n",
    "df_resultado_fracasso = df[df[\"Result_of_Treatment\"]==0]"
   ]
  },
  {
   "cell_type": "code",
   "execution_count": 18,
   "id": "799d5838",
   "metadata": {},
   "outputs": [
    {
     "data": {
      "text/plain": [
       "<function matplotlib.pyplot.show(close=None, block=None)>"
      ]
     },
     "execution_count": 18,
     "metadata": {},
     "output_type": "execute_result"
    },
    {
     "data": {
      "image/png": "[encoded data removed]",
      "text/plain": [
       "<Figure size 640x480 with 1 Axes>"
      ]
     },
     "metadata": {},
     "output_type": "display_data"
    }
   ],
   "source": [
    "    plt.hist(df_resultado_sucesso[\"sex\"],alpha = 0.7)\n",
    "    plt.hist(df_resultado_fracasso[\"sex\"],alpha = 0.7)\n",
    "    plt.title(\"sex\")\n",
    "    plt.legend([\"Sucesso\",\"Fracasso\"])\n",
    "    plt.show\n"
   ]
  },
  {
   "cell_type": "code",
   "execution_count": 19,
   "id": "659c1a98",
   "metadata": {},
   "outputs": [
    {
     "data": {
      "text/plain": [
       "<function matplotlib.pyplot.show(close=None, block=None)>"
      ]
     },
     "execution_count": 19,
     "metadata": {},
     "output_type": "execute_result"
    },
    {
     "data": {
      "image/png": "[encoded data removed]",
      "text/plain": [
       "<Figure size 640x480 with 1 Axes>"
      ]
     },
     "metadata": {},
     "output_type": "display_data"
    }
   ],
   "source": [
    "    plt.hist(df_resultado_sucesso[\"age\"],15,rwidth=0.8,alpha = 0.7)\n",
    "    plt.hist(df_resultado_fracasso[\"age\"],15,rwidth=0.8, alpha = 0.7)\n",
    "    plt.title(\"age\")\n",
    "    plt.legend([\"Sucesso\",\"Fracasso\"])\n",
    "    plt.show\n"
   ]
  },
  {
   "cell_type": "code",
   "execution_count": 20,
   "id": "1c5fd252",
   "metadata": {},
   "outputs": [
    {
     "data": {
      "text/plain": [
       "<function matplotlib.pyplot.show(close=None, block=None)>"
      ]
     },
     "execution_count": 20,
     "metadata": {},
     "output_type": "execute_result"
    },
    {
     "data": {
      "image/png": "[encoded data removed]",
      "text/plain": [
       "<Figure size 640x480 with 1 Axes>"
      ]
     },
     "metadata": {},
     "output_type": "display_data"
    }
   ],
   "source": [
    "    plt.hist(df_resultado_sucesso[\"Time\"],15,rwidth=0.8,alpha = 0.7)\n",
    "    plt.hist(df_resultado_fracasso[\"Time\"],15,rwidth=0.8, alpha = 0.7)\n",
    "    plt.title(\"Time\")\n",
    "    plt.legend([\"Sucesso\",\"Fracasso\"])\n",
    "    plt.show\n"
   ]
  },
  {
   "cell_type": "code",
   "execution_count": 21,
   "id": "64346002",
   "metadata": {},
   "outputs": [
    {
     "data": {
      "text/plain": [
       "<function matplotlib.pyplot.show(close=None, block=None)>"
      ]
     },
     "execution_count": 21,
     "metadata": {},
     "output_type": "execute_result"
    },
    {
     "data": {
      "image/png": "[encoded data removed]",
      "text/plain": [
       "<Figure size 640x480 with 1 Axes>"
      ]
     },
     "metadata": {},
     "output_type": "display_data"
    }
   ],
   "source": [
    "    plt.hist(df_resultado_sucesso[\"Number_of_Warts\"],15,rwidth=0.8,alpha = 0.7)\n",
    "    plt.hist(df_resultado_fracasso[\"Number_of_Warts\"],15,rwidth=0.8, alpha = 0.7)\n",
    "    plt.title(\"Number_of_Warts\")\n",
    "    plt.legend([\"Sucesso\",\"Fracasso\"])\n",
    "    plt.show"
   ]
  },
  {
   "cell_type": "code",
   "execution_count": 22,
   "id": "0036f2c2",
   "metadata": {},
   "outputs": [
    {
     "data": {
      "text/plain": [
       "<function matplotlib.pyplot.show(close=None, block=None)>"
      ]
     },
     "execution_count": 22,
     "metadata": {},
     "output_type": "execute_result"
    },
    {
     "data": {
      "image/png": "[encoded data removed]",
      "text/plain": [
       "<Figure size 640x480 with 1 Axes>"
      ]
     },
     "metadata": {},
     "output_type": "display_data"
    }
   ],
   "source": [
    "    plt.hist(df_resultado_sucesso[\"Type\"],15,rwidth=0.8,alpha = 0.7)\n",
    "    plt.hist(df_resultado_fracasso[\"Type\"],15,rwidth=0.8, alpha = 0.7)\n",
    "    plt.title(\"Type\")\n",
    "    plt.legend([\"Sucesso\",\"Fracasso\"])\n",
    "    plt.show"
   ]
  },
  {
   "cell_type": "code",
   "execution_count": 23,
   "id": "142032f2",
   "metadata": {},
   "outputs": [
    {
     "data": {
      "text/plain": [
       "<function matplotlib.pyplot.show(close=None, block=None)>"
      ]
     },
     "execution_count": 23,
     "metadata": {},
     "output_type": "execute_result"
    },
    {
     "data": {
      "image/png": "[encoded data removed]",
      "text/plain": [
       "<Figure size 640x480 with 1 Axes>"
      ]
     },
     "metadata": {},
     "output_type": "display_data"
    }
   ],
   "source": [
    "    plt.hist(df_resultado_sucesso[\"Area\"],15,rwidth=0.8,alpha = 0.7)\n",
    "    plt.hist(df_resultado_fracasso[\"Area\"],15,rwidth=0.8, alpha = 0.7)\n",
    "    plt.title(\"Area\")\n",
    "    plt.legend([\"Sucesso\",\"Fracasso\"])\n",
    "    plt.show"
   ]
  },
  {
   "cell_type": "code",
   "execution_count": 24,
   "id": "49770006",
   "metadata": {},
   "outputs": [
    {
     "data": {
      "text/plain": [
       "<function matplotlib.pyplot.show(close=None, block=None)>"
      ]
     },
     "execution_count": 24,
     "metadata": {},
     "output_type": "execute_result"
    },
    {
     "data": {
      "image/png": "[encoded data removed]",
      "text/plain": [
       "<Figure size 640x480 with 1 Axes>"
      ]
     },
     "metadata": {},
     "output_type": "display_data"
    }
   ],
   "source": [
    "    plt.hist(df_resultado_sucesso[\"induration_diameter\"],15,rwidth=0.8,alpha = 0.7)\n",
    "    plt.hist(df_resultado_fracasso[\"induration_diameter\"],15,rwidth=0.8, alpha = 0.7)\n",
    "    plt.title(\"induration_diameter\")\n",
    "    plt.legend([\"Sucesso\",\"Fracasso\"])\n",
    "    plt.show"
   ]
  },
  {
   "cell_type": "markdown",
   "id": "28e15f66",
   "metadata": {},
   "source": [
    "<p>----------------------------------------------------------------------------------------------------------------------------------------------</p>\n",
    "<h1>ANÁLISE 1</h1>\n",
    "<h1>Fase de Análise</h1>"
   ]
  },
  {
   "cell_type": "markdown",
   "id": "3233f5fa",
   "metadata": {},
   "source": [
    "<h2>Seleção de Atributos</h2>\n",
    "\n",
    "<p>Nessa primeira análise serão selecionados e submetidos ao treinamento, apenas as colunas \"age\", \"Time\" e \"Type\", já que foram as que apresentaram maior correlação linear com o resutado do tratamento"
   ]
  },
  {
   "cell_type": "code",
   "execution_count": 25,
   "id": "328a55bb",
   "metadata": {},
   "outputs": [
    {
     "data": {
      "text/html": [
       "<div>\n",
       "<style scoped>\n",
       "    .dataframe tbody tr th:only-of-type {\n",
       "        vertical-align: middle;\n",
       "    }\n",
       "\n",
       "    .dataframe tbody tr th {\n",
       "        vertical-align: top;\n",
       "    }\n",
       "\n",
       "    .dataframe thead th {\n",
       "        text-align: right;\n",
       "    }\n",
       "</style>\n",
       "<table border=\"1\" class=\"dataframe\">\n",
       "  <thead>\n",
       "    <tr style=\"text-align: right;\">\n",
       "      <th></th>\n",
       "      <th>age</th>\n",
       "      <th>Time</th>\n",
       "      <th>Type</th>\n",
       "      <th>Result_of_Treatment</th>\n",
       "    </tr>\n",
       "  </thead>\n",
       "  <tbody>\n",
       "    <tr>\n",
       "      <th>0</th>\n",
       "      <td>22</td>\n",
       "      <td>2.25</td>\n",
       "      <td>3</td>\n",
       "      <td>1</td>\n",
       "    </tr>\n",
       "    <tr>\n",
       "      <th>1</th>\n",
       "      <td>15</td>\n",
       "      <td>3.00</td>\n",
       "      <td>3</td>\n",
       "      <td>1</td>\n",
       "    </tr>\n",
       "    <tr>\n",
       "      <th>2</th>\n",
       "      <td>16</td>\n",
       "      <td>10.50</td>\n",
       "      <td>1</td>\n",
       "      <td>1</td>\n",
       "    </tr>\n",
       "    <tr>\n",
       "      <th>3</th>\n",
       "      <td>27</td>\n",
       "      <td>4.50</td>\n",
       "      <td>3</td>\n",
       "      <td>1</td>\n",
       "    </tr>\n",
       "    <tr>\n",
       "      <th>4</th>\n",
       "      <td>20</td>\n",
       "      <td>8.00</td>\n",
       "      <td>1</td>\n",
       "      <td>1</td>\n",
       "    </tr>\n",
       "    <tr>\n",
       "      <th>...</th>\n",
       "      <td>...</td>\n",
       "      <td>...</td>\n",
       "      <td>...</td>\n",
       "      <td>...</td>\n",
       "    </tr>\n",
       "    <tr>\n",
       "      <th>85</th>\n",
       "      <td>40</td>\n",
       "      <td>5.50</td>\n",
       "      <td>3</td>\n",
       "      <td>1</td>\n",
       "    </tr>\n",
       "    <tr>\n",
       "      <th>86</th>\n",
       "      <td>38</td>\n",
       "      <td>7.50</td>\n",
       "      <td>2</td>\n",
       "      <td>1</td>\n",
       "    </tr>\n",
       "    <tr>\n",
       "      <th>87</th>\n",
       "      <td>46</td>\n",
       "      <td>11.50</td>\n",
       "      <td>1</td>\n",
       "      <td>0</td>\n",
       "    </tr>\n",
       "    <tr>\n",
       "      <th>88</th>\n",
       "      <td>32</td>\n",
       "      <td>12.00</td>\n",
       "      <td>1</td>\n",
       "      <td>0</td>\n",
       "    </tr>\n",
       "    <tr>\n",
       "      <th>89</th>\n",
       "      <td>23</td>\n",
       "      <td>6.75</td>\n",
       "      <td>1</td>\n",
       "      <td>1</td>\n",
       "    </tr>\n",
       "  </tbody>\n",
       "</table>\n",
       "<p>90 rows × 4 columns</p>\n",
       "</div>"
      ],
      "text/plain": [
       "    age   Time  Type  Result_of_Treatment\n",
       "0    22   2.25     3                    1\n",
       "1    15   3.00     3                    1\n",
       "2    16  10.50     1                    1\n",
       "3    27   4.50     3                    1\n",
       "4    20   8.00     1                    1\n",
       "..  ...    ...   ...                  ...\n",
       "85   40   5.50     3                    1\n",
       "86   38   7.50     2                    1\n",
       "87   46  11.50     1                    0\n",
       "88   32  12.00     1                    0\n",
       "89   23   6.75     1                    1\n",
       "\n",
       "[90 rows x 4 columns]"
      ]
     },
     "execution_count": 25,
     "metadata": {},
     "output_type": "execute_result"
    }
   ],
   "source": [
    "df_selected = df[['age','Time','Type','Result_of_Treatment']]\n",
    "df_selected"
   ]
  },
  {
   "cell_type": "code",
   "execution_count": 26,
   "id": "47d12fe8",
   "metadata": {},
   "outputs": [],
   "source": [
    "#criar conjunto de teste e treino manualmente\n",
    "\n",
    "from sklearn.model_selection import train_test_split\n",
    "\n",
    "x = df_selected.drop(['Result_of_Treatment'], axis=1)"
   ]
  },
  {
   "cell_type": "code",
   "execution_count": 27,
   "id": "144abc47",
   "metadata": {},
   "outputs": [],
   "source": [
    "y = df_selected['Result_of_Treatment']"
   ]
  },
  {
   "cell_type": "code",
   "execution_count": 28,
   "id": "a9dc847e",
   "metadata": {},
   "outputs": [],
   "source": [
    "#criar conjunto de teste e treino\n",
    "\n",
    "x_train, x_test, y_train, y_test = train_test_split(x,y)"
   ]
  },
  {
   "cell_type": "markdown",
   "id": "c1fd4248",
   "metadata": {},
   "source": [
    "<h2>Escolha e Preparação do Modelo</h2>\n",
    "\n",
    "<h2>KNeighbors</h2>\n",
    "\n",
    "<h3>Fase de Treinamento do Modelo</h3>"
   ]
  },
  {
   "cell_type": "code",
   "execution_count": 29,
   "id": "b54abbfa",
   "metadata": {},
   "outputs": [],
   "source": [
    "from sklearn.neighbors import KNeighborsClassifier\n",
    "from sklearn.metrics import accuracy_score\n",
    "from sklearn.metrics import confusion_matrix\n",
    "from sklearn.metrics import precision_score\n",
    "from sklearn.metrics import recall_score\n",
    "from sklearn.metrics import f1_score\n",
    "\n",
    "#1-Criando uma instancia do modelo\n",
    "modelo = KNeighborsClassifier(3)\n",
    "\n",
    "#2-Treinando o modelo\n",
    "modelo.fit(x_train, y_train)\n",
    "\n",
    "#3-Calcular as métricas do modelo\n",
    "y_pred = modelo.predict(x_train)"
   ]
  },
  {
   "cell_type": "code",
   "execution_count": 30,
   "id": "cc547884",
   "metadata": {},
   "outputs": [
    {
     "name": "stdout",
     "output_type": "stream",
     "text": [
      "\n",
      "Matriz de Confusão:\n",
      " [[ 6  6]\n",
      " [ 0 55]]\n",
      "\n",
      "Acuracia:\n",
      " 0.9104477611940298\n",
      "\n",
      "Precisão:\n",
      " [1.         0.90163934]\n",
      "\n",
      "Recall:\n",
      " [0.5 1. ]\n",
      "\n",
      "F1 Score:\n",
      " [0.66666667 0.94827586]\n"
     ]
    }
   ],
   "source": [
    "print(\"\\nMatriz de Confusão:\\n\",confusion_matrix(y_train, y_pred))\n",
    "print(\"\\nAcuracia:\\n\", accuracy_score(y_train, y_pred))\n",
    "print(\"\\nPrecisão:\\n\", precision_score(y_train, y_pred, average=None))\n",
    "print(\"\\nRecall:\\n\", recall_score(y_train, y_pred, average=None))\n",
    "print(\"\\nF1 Score:\\n\", f1_score(y_train, y_pred, average=None))\n"
   ]
  },
  {
   "cell_type": "markdown",
   "id": "b37e2638",
   "metadata": {},
   "source": [
    "<h3>Fase de Teste do Modelo</h3>"
   ]
  },
  {
   "cell_type": "code",
   "execution_count": 31,
   "id": "85766c17",
   "metadata": {},
   "outputs": [],
   "source": [
    "#prever com os valores do dataset de teste\n",
    "y_pred = modelo.predict(x_test)"
   ]
  },
  {
   "cell_type": "code",
   "execution_count": 32,
   "id": "701c8e87",
   "metadata": {},
   "outputs": [
    {
     "name": "stdout",
     "output_type": "stream",
     "text": [
      "\n",
      "Matriz de Confusão:\n",
      " [[ 1  6]\n",
      " [ 0 16]]\n",
      "\n",
      "Acuracia:\n",
      " 0.7391304347826086\n",
      "\n",
      "Precisão:\n",
      " [1.         0.72727273]\n",
      "\n",
      "Recall:\n",
      " [0.14285714 1.        ]\n",
      "\n",
      "F1 Score:\n",
      " [0.25       0.84210526]\n"
     ]
    }
   ],
   "source": [
    "KNN_A1 = accuracy_score(y_test, y_pred)\n",
    "KNN_P1 = precision_score(y_test, y_pred, average=None)\n",
    "KNN_R1 = recall_score(y_test, y_pred, average=None)\n",
    "KNN_F1 = f1_score(y_test, y_pred, average=None)\n",
    "\n",
    "print(\"\\nMatriz de Confusão:\\n\",confusion_matrix(y_test, y_pred))\n",
    "print(\"\\nAcuracia:\\n\", KNN_A1)\n",
    "print(\"\\nPrecisão:\\n\", KNN_P1)\n",
    "print(\"\\nRecall:\\n\", KNN_R1)\n",
    "print(\"\\nF1 Score:\\n\", KNN_F1)"
   ]
  },
  {
   "cell_type": "markdown",
   "id": "e01505bb",
   "metadata": {},
   "source": [
    "<h2>Decision Tree </h2>\n",
    "\n",
    "<h3>Fase de Treinamento do Modelo</h3>"
   ]
  },
  {
   "cell_type": "code",
   "execution_count": 33,
   "id": "90ef2866",
   "metadata": {},
   "outputs": [],
   "source": [
    "from sklearn.tree import DecisionTreeClassifier\n",
    "\n",
    "#1-Criando uma instancia do modelo\n",
    "arvore = DecisionTreeClassifier()\n",
    "\n",
    "#2-Treinando o modelo\n",
    "arvore.fit(x_train, y_train)\n",
    "\n",
    "#3-Calcular as métricas do modelo\n",
    "y_pred2 = arvore.predict(x_train)\n"
   ]
  },
  {
   "cell_type": "code",
   "execution_count": 34,
   "id": "04d24242",
   "metadata": {},
   "outputs": [
    {
     "name": "stdout",
     "output_type": "stream",
     "text": [
      "\n",
      "Matriz de Confusão:\n",
      " [[12  0]\n",
      " [ 0 55]]\n",
      "\n",
      "Acuracia:\n",
      " 1.0\n",
      "\n",
      "Precisão:\n",
      " [1. 1.]\n",
      "\n",
      "Recall:\n",
      " [1. 1.]\n",
      "\n",
      "F1 Score:\n",
      " [1. 1.]\n"
     ]
    }
   ],
   "source": [
    "print(\"\\nMatriz de Confusão:\\n\",confusion_matrix(y_train, y_pred2))\n",
    "print(\"\\nAcuracia:\\n\", accuracy_score(y_train, y_pred2))\n",
    "print(\"\\nPrecisão:\\n\", precision_score(y_train, y_pred2, average=None))\n",
    "print(\"\\nRecall:\\n\", recall_score(y_train, y_pred2, average=None))\n",
    "print(\"\\nF1 Score:\\n\", f1_score(y_train, y_pred2, average=None))\n"
   ]
  },
  {
   "cell_type": "markdown",
   "id": "af102224",
   "metadata": {},
   "source": [
    "<h3>Fase de Teste do Modelo</h3>"
   ]
  },
  {
   "cell_type": "code",
   "execution_count": 35,
   "id": "d46365ee",
   "metadata": {},
   "outputs": [],
   "source": [
    "#prever com os valores do dataset de teste\n",
    "y_pred2 = arvore.predict(x_test)\n"
   ]
  },
  {
   "cell_type": "code",
   "execution_count": 36,
   "id": "7e3fb111",
   "metadata": {},
   "outputs": [
    {
     "name": "stdout",
     "output_type": "stream",
     "text": [
      "\n",
      "Matriz de Confusão:\n",
      " [[ 1  6]\n",
      " [ 3 13]]\n",
      "\n",
      "Acuracia:\n",
      " 0.6086956521739131\n",
      "\n",
      "Precisão:\n",
      " [0.25       0.68421053]\n",
      "\n",
      "Recall:\n",
      " [0.14285714 0.8125    ]\n",
      "\n",
      "F1 Score:\n",
      " [0.18181818 0.74285714]\n"
     ]
    }
   ],
   "source": [
    "DT_A1 = accuracy_score(y_test, y_pred2)\n",
    "DT_P1 = precision_score(y_test, y_pred2, average=None)\n",
    "DT_R1 = recall_score(y_test, y_pred2, average=None)\n",
    "DT_F1 = f1_score(y_test, y_pred2, average=None)\n",
    "\n",
    "print(\"\\nMatriz de Confusão:\\n\",confusion_matrix(y_test, y_pred2))\n",
    "print(\"\\nAcuracia:\\n\", DT_A1)\n",
    "print(\"\\nPrecisão:\\n\", DT_P1)\n",
    "print(\"\\nRecall:\\n\", DT_R1)\n",
    "print(\"\\nF1 Score:\\n\", DT_F1)\n",
    "\n"
   ]
  },
  {
   "cell_type": "markdown",
   "id": "ce630b82",
   "metadata": {},
   "source": [
    "<h2> SVM - Support Vector Machines </h2>\n",
    "\n",
    "<p>A SVM é uma tecnica de regressão ou classificação (O SVC trabalhado nesse estudo, utiliza o modelo de classificação) que constrói hiperplanos em um espaço n-dimensional para classificar dados.</p>\n",
    "<p>Esse modelo busca criar uma linha de separação entre diferentes classes, ao entrarem novos objetos na análise, estes serão classificados pela divisão das linhas (hiperplanos) em seu respectivo grupo, o que caracteriza um classificador linear.</p>\n",
    "\n",
    "<p>Esse modelo foi selecionado pois a separação linear parece ser uma boa solução para um conjunto de dados com resultado binário</p>\n",
    "\n",
    "<h3>Fase de Treinamento do Modelo</h3>"
   ]
  },
  {
   "cell_type": "code",
   "execution_count": 37,
   "id": "f315473b",
   "metadata": {},
   "outputs": [],
   "source": [
    "from sklearn.svm import SVC\n",
    "\n",
    "#1-Criando uma instancia do modelo\n",
    "svc = SVC(C=100)\n",
    "\n",
    "#2-Treinando o modelo\n",
    "svc.fit(x_train, y_train)\n",
    "\n",
    "#3-Calcular as métricas do modelo\n",
    "y_pred3 = svc.predict(x_train)"
   ]
  },
  {
   "cell_type": "code",
   "execution_count": 38,
   "id": "2ddcfa79",
   "metadata": {},
   "outputs": [
    {
     "name": "stdout",
     "output_type": "stream",
     "text": [
      "\n",
      "Matriz de Confusão:\n",
      " [[ 6  6]\n",
      " [ 1 54]]\n",
      "\n",
      "Acuracia:\n",
      " 0.8955223880597015\n",
      "\n",
      "Precisão:\n",
      " [0.85714286 0.9       ]\n",
      "\n",
      "Recall:\n",
      " [0.5        0.98181818]\n",
      "\n",
      "F1 Score:\n",
      " [0.63157895 0.93913043]\n"
     ]
    }
   ],
   "source": [
    "print(\"\\nMatriz de Confusão:\\n\",confusion_matrix(y_train, y_pred3))\n",
    "print(\"\\nAcuracia:\\n\", accuracy_score(y_train, y_pred3))\n",
    "print(\"\\nPrecisão:\\n\", precision_score(y_train, y_pred3, average=None))\n",
    "print(\"\\nRecall:\\n\", recall_score(y_train, y_pred3, average=None))\n",
    "print(\"\\nF1 Score:\\n\", f1_score(y_train, y_pred3, average=None))"
   ]
  },
  {
   "cell_type": "markdown",
   "id": "de6b2b2d",
   "metadata": {},
   "source": [
    "<h3>Fase de Teste do Modelo</h3>"
   ]
  },
  {
   "cell_type": "code",
   "execution_count": 39,
   "id": "5e18323f",
   "metadata": {},
   "outputs": [],
   "source": [
    "y_pred3 = svc.predict(x_test)"
   ]
  },
  {
   "cell_type": "code",
   "execution_count": 40,
   "id": "9bfacf53",
   "metadata": {},
   "outputs": [
    {
     "name": "stdout",
     "output_type": "stream",
     "text": [
      "\n",
      "Matriz de Confusão:\n",
      " [[ 2  5]\n",
      " [ 3 13]]\n",
      "\n",
      "Acuracia:\n",
      " 0.6521739130434783\n",
      "\n",
      "Precisão:\n",
      " [0.4        0.72222222]\n",
      "\n",
      "Recall:\n",
      " [0.28571429 0.8125    ]\n",
      "\n",
      "F1 Score:\n",
      " [0.33333333 0.76470588]\n"
     ]
    }
   ],
   "source": [
    "SVM_A1 = accuracy_score(y_test, y_pred3)\n",
    "SVM_P1 = precision_score(y_test, y_pred3, average=None)\n",
    "SVM_R1 = recall_score(y_test, y_pred3, average=None)\n",
    "SVM_F1 = f1_score(y_test, y_pred3, average=None)\n",
    "\n",
    "print(\"\\nMatriz de Confusão:\\n\",confusion_matrix(y_test, y_pred3))\n",
    "print(\"\\nAcuracia:\\n\", SVM_A1)\n",
    "print(\"\\nPrecisão:\\n\", SVM_P1)\n",
    "print(\"\\nRecall:\\n\",SVM_R1)\n",
    "print(\"\\nF1 Score:\\n\",SVM_F1)\n"
   ]
  },
  {
   "cell_type": "markdown",
   "id": "646f9228",
   "metadata": {},
   "source": [
    "<p>----------------------------------------------------------------------------------------------------------------------------------------------</p>\n",
    "<h1>ANÁLISE 2</h1>\n",
    "<h1>Fase de Análise</h1>"
   ]
  },
  {
   "cell_type": "markdown",
   "id": "f319892b",
   "metadata": {},
   "source": [
    "<h2>Seleção de Atributos</h2>\n",
    "\n",
    "<p>Nessa análise serão considerados também os atributos \"Number_of_Warts\" e \"Area\", para avaliação do impacto da adição de atributos de baixa correlação com a classificação final.\n",
    "\n"
   ]
  },
  {
   "cell_type": "code",
   "execution_count": 41,
   "id": "772c5dac",
   "metadata": {},
   "outputs": [
    {
     "data": {
      "text/html": [
       "<div>\n",
       "<style scoped>\n",
       "    .dataframe tbody tr th:only-of-type {\n",
       "        vertical-align: middle;\n",
       "    }\n",
       "\n",
       "    .dataframe tbody tr th {\n",
       "        vertical-align: top;\n",
       "    }\n",
       "\n",
       "    .dataframe thead th {\n",
       "        text-align: right;\n",
       "    }\n",
       "</style>\n",
       "<table border=\"1\" class=\"dataframe\">\n",
       "  <thead>\n",
       "    <tr style=\"text-align: right;\">\n",
       "      <th></th>\n",
       "      <th>age</th>\n",
       "      <th>Time</th>\n",
       "      <th>Type</th>\n",
       "      <th>Number_of_Warts</th>\n",
       "      <th>Area</th>\n",
       "      <th>Result_of_Treatment</th>\n",
       "    </tr>\n",
       "  </thead>\n",
       "  <tbody>\n",
       "    <tr>\n",
       "      <th>0</th>\n",
       "      <td>22</td>\n",
       "      <td>2.25</td>\n",
       "      <td>3</td>\n",
       "      <td>14</td>\n",
       "      <td>51</td>\n",
       "      <td>1</td>\n",
       "    </tr>\n",
       "    <tr>\n",
       "      <th>1</th>\n",
       "      <td>15</td>\n",
       "      <td>3.00</td>\n",
       "      <td>3</td>\n",
       "      <td>2</td>\n",
       "      <td>900</td>\n",
       "      <td>1</td>\n",
       "    </tr>\n",
       "    <tr>\n",
       "      <th>2</th>\n",
       "      <td>16</td>\n",
       "      <td>10.50</td>\n",
       "      <td>1</td>\n",
       "      <td>2</td>\n",
       "      <td>100</td>\n",
       "      <td>1</td>\n",
       "    </tr>\n",
       "    <tr>\n",
       "      <th>3</th>\n",
       "      <td>27</td>\n",
       "      <td>4.50</td>\n",
       "      <td>3</td>\n",
       "      <td>9</td>\n",
       "      <td>80</td>\n",
       "      <td>1</td>\n",
       "    </tr>\n",
       "    <tr>\n",
       "      <th>4</th>\n",
       "      <td>20</td>\n",
       "      <td>8.00</td>\n",
       "      <td>1</td>\n",
       "      <td>6</td>\n",
       "      <td>45</td>\n",
       "      <td>1</td>\n",
       "    </tr>\n",
       "    <tr>\n",
       "      <th>...</th>\n",
       "      <td>...</td>\n",
       "      <td>...</td>\n",
       "      <td>...</td>\n",
       "      <td>...</td>\n",
       "      <td>...</td>\n",
       "      <td>...</td>\n",
       "    </tr>\n",
       "    <tr>\n",
       "      <th>85</th>\n",
       "      <td>40</td>\n",
       "      <td>5.50</td>\n",
       "      <td>3</td>\n",
       "      <td>8</td>\n",
       "      <td>69</td>\n",
       "      <td>1</td>\n",
       "    </tr>\n",
       "    <tr>\n",
       "      <th>86</th>\n",
       "      <td>38</td>\n",
       "      <td>7.50</td>\n",
       "      <td>2</td>\n",
       "      <td>8</td>\n",
       "      <td>56</td>\n",
       "      <td>1</td>\n",
       "    </tr>\n",
       "    <tr>\n",
       "      <th>87</th>\n",
       "      <td>46</td>\n",
       "      <td>11.50</td>\n",
       "      <td>1</td>\n",
       "      <td>4</td>\n",
       "      <td>91</td>\n",
       "      <td>0</td>\n",
       "    </tr>\n",
       "    <tr>\n",
       "      <th>88</th>\n",
       "      <td>32</td>\n",
       "      <td>12.00</td>\n",
       "      <td>1</td>\n",
       "      <td>9</td>\n",
       "      <td>43</td>\n",
       "      <td>0</td>\n",
       "    </tr>\n",
       "    <tr>\n",
       "      <th>89</th>\n",
       "      <td>23</td>\n",
       "      <td>6.75</td>\n",
       "      <td>1</td>\n",
       "      <td>6</td>\n",
       "      <td>19</td>\n",
       "      <td>1</td>\n",
       "    </tr>\n",
       "  </tbody>\n",
       "</table>\n",
       "<p>90 rows × 6 columns</p>\n",
       "</div>"
      ],
      "text/plain": [
       "    age   Time  Type  Number_of_Warts  Area  Result_of_Treatment\n",
       "0    22   2.25     3               14    51                    1\n",
       "1    15   3.00     3                2   900                    1\n",
       "2    16  10.50     1                2   100                    1\n",
       "3    27   4.50     3                9    80                    1\n",
       "4    20   8.00     1                6    45                    1\n",
       "..  ...    ...   ...              ...   ...                  ...\n",
       "85   40   5.50     3                8    69                    1\n",
       "86   38   7.50     2                8    56                    1\n",
       "87   46  11.50     1                4    91                    0\n",
       "88   32  12.00     1                9    43                    0\n",
       "89   23   6.75     1                6    19                    1\n",
       "\n",
       "[90 rows x 6 columns]"
      ]
     },
     "execution_count": 41,
     "metadata": {},
     "output_type": "execute_result"
    }
   ],
   "source": [
    "df_selected2 = df[['age','Time','Type','Number_of_Warts','Area','Result_of_Treatment']]\n",
    "df_selected2"
   ]
  },
  {
   "cell_type": "code",
   "execution_count": 42,
   "id": "1a8afcfb",
   "metadata": {},
   "outputs": [],
   "source": [
    "#criar conjunto de teste e treino manualmente\n",
    "\n",
    "from sklearn.model_selection import train_test_split\n",
    "\n",
    "x2 = df_selected2.drop(['Result_of_Treatment'], axis=1)\n",
    "y2 = df_selected2['Result_of_Treatment']"
   ]
  },
  {
   "cell_type": "code",
   "execution_count": 43,
   "id": "f72fdd33",
   "metadata": {},
   "outputs": [],
   "source": [
    "#criar conjunto de teste e treino\n",
    "\n",
    "x_train2, x_test2, y_train2, y_test2 = train_test_split(x2,y2)"
   ]
  },
  {
   "cell_type": "markdown",
   "id": "c17d8f6c",
   "metadata": {},
   "source": [
    "<h2>Escolha e Preparação do Modelo</h2>\n",
    "\n",
    "<h2>KNeighbors</h2>\n",
    "\n",
    "<h3>Fase de Treinamento do Modelo</h3>"
   ]
  },
  {
   "cell_type": "code",
   "execution_count": 44,
   "id": "eebe0298",
   "metadata": {},
   "outputs": [],
   "source": [
    "#1-Criando uma instancia do modelo\n",
    "modelo2 = KNeighborsClassifier(3)\n",
    "\n",
    "#2-Treinando o modelo\n",
    "modelo2.fit(x_train2, y_train2)\n",
    "\n",
    "#3-Calcular as métricas do modelo\n",
    "y_pred4 = modelo2.predict(x_train2)"
   ]
  },
  {
   "cell_type": "code",
   "execution_count": 45,
   "id": "27a9d11d",
   "metadata": {},
   "outputs": [
    {
     "name": "stdout",
     "output_type": "stream",
     "text": [
      "\n",
      "Matriz de Confusão:\n",
      " [[ 7  9]\n",
      " [ 5 46]]\n",
      "\n",
      "Acuracia:\n",
      " 0.7910447761194029\n",
      "\n",
      "Precisão:\n",
      " [0.58333333 0.83636364]\n",
      "\n",
      "Recall:\n",
      " [0.4375     0.90196078]\n",
      "\n",
      "F1 Score:\n",
      " [0.5        0.86792453]\n"
     ]
    }
   ],
   "source": [
    "print(\"\\nMatriz de Confusão:\\n\",confusion_matrix(y_train2, y_pred4))\n",
    "print(\"\\nAcuracia:\\n\", accuracy_score(y_train2, y_pred4))\n",
    "print(\"\\nPrecisão:\\n\", precision_score(y_train2, y_pred4, average=None))\n",
    "print(\"\\nRecall:\\n\", recall_score(y_train2, y_pred4, average=None))\n",
    "print(\"\\nF1 Score:\\n\", f1_score(y_train2, y_pred4, average=None))"
   ]
  },
  {
   "cell_type": "markdown",
   "id": "89f70eab",
   "metadata": {},
   "source": [
    "<h3>Fase de Teste do Modelo</h3>"
   ]
  },
  {
   "cell_type": "code",
   "execution_count": 46,
   "id": "59c2e98a",
   "metadata": {},
   "outputs": [],
   "source": [
    "#prever com os valores do dataset de teste\n",
    "y_pred4 = modelo2.predict(x_test2)"
   ]
  },
  {
   "cell_type": "code",
   "execution_count": 47,
   "id": "0e7c6883",
   "metadata": {},
   "outputs": [
    {
     "name": "stdout",
     "output_type": "stream",
     "text": [
      "\n",
      "Matriz de Confusão:\n",
      " [[ 0  3]\n",
      " [ 1 19]]\n",
      "\n",
      "Acuracia:\n",
      " 0.8260869565217391\n",
      "\n",
      "Precisão:\n",
      " [0.         0.86363636]\n",
      "\n",
      "Recall:\n",
      " [0.   0.95]\n",
      "\n",
      "F1 Score:\n",
      " [0.        0.9047619]\n"
     ]
    }
   ],
   "source": [
    "KNN_A2 = accuracy_score(y_test2, y_pred4)\n",
    "KNN_P2 = precision_score(y_test2, y_pred4, average=None)\n",
    "KNN_R2 = recall_score(y_test2, y_pred4, average=None)\n",
    "KNN_F2 = f1_score(y_test2, y_pred4, average=None)\n",
    "\n",
    "print(\"\\nMatriz de Confusão:\\n\",confusion_matrix(y_test2, y_pred4))\n",
    "print(\"\\nAcuracia:\\n\", KNN_A2)\n",
    "print(\"\\nPrecisão:\\n\", KNN_P2)\n",
    "print(\"\\nRecall:\\n\", KNN_R2)\n",
    "print(\"\\nF1 Score:\\n\", KNN_F2)"
   ]
  },
  {
   "cell_type": "markdown",
   "id": "ebcc1dfc",
   "metadata": {},
   "source": [
    "<h2>Decision Tree </h2>\n",
    "\n",
    "<h3>Fase de Treinamento do Modelo</h3>"
   ]
  },
  {
   "cell_type": "code",
   "execution_count": 48,
   "id": "cd76a9c1",
   "metadata": {},
   "outputs": [],
   "source": [
    "#1-Criando uma instancia do modelo\n",
    "arvore2 = DecisionTreeClassifier()\n",
    "\n",
    "#2-Treinando o modelo\n",
    "arvore2.fit(x_train2, y_train2)\n",
    "\n",
    "#3-Calcular as métricas do modelo\n",
    "y_pred5 = arvore2.predict(x_train2)\n",
    "\n"
   ]
  },
  {
   "cell_type": "code",
   "execution_count": 49,
   "id": "18ba4d6b",
   "metadata": {},
   "outputs": [
    {
     "name": "stdout",
     "output_type": "stream",
     "text": [
      "\n",
      "Matriz de Confusão:\n",
      " [[16  0]\n",
      " [ 0 51]]\n",
      "\n",
      "Acuracia:\n",
      " 1.0\n",
      "\n",
      "Precisão:\n",
      " [1. 1.]\n",
      "\n",
      "Recall:\n",
      " [1. 1.]\n",
      "\n",
      "F1 Score:\n",
      " [1. 1.]\n"
     ]
    }
   ],
   "source": [
    "print(\"\\nMatriz de Confusão:\\n\",confusion_matrix(y_train2, y_pred5))\n",
    "print(\"\\nAcuracia:\\n\", accuracy_score(y_train2, y_pred5))\n",
    "print(\"\\nPrecisão:\\n\", precision_score(y_train2, y_pred5, average=None))\n",
    "print(\"\\nRecall:\\n\", recall_score(y_train2, y_pred5, average=None))\n",
    "print(\"\\nF1 Score:\\n\", f1_score(y_train2, y_pred5, average=None))"
   ]
  },
  {
   "cell_type": "markdown",
   "id": "f4a406f3",
   "metadata": {},
   "source": [
    "<h3>Fase de Teste do Modelo</h3>"
   ]
  },
  {
   "cell_type": "code",
   "execution_count": 50,
   "id": "1a387ed0",
   "metadata": {},
   "outputs": [],
   "source": [
    "#prever com os valores do dataset de teste\n",
    "y_pred5 = arvore2.predict(x_test2)"
   ]
  },
  {
   "cell_type": "code",
   "execution_count": 51,
   "id": "59a66d9e",
   "metadata": {},
   "outputs": [
    {
     "name": "stdout",
     "output_type": "stream",
     "text": [
      "\n",
      "Matriz de Confusão:\n",
      " [[ 1  2]\n",
      " [ 2 18]]\n",
      "\n",
      "Acuracia:\n",
      " 0.8260869565217391\n",
      "\n",
      "Precisão:\n",
      " [0.33333333 0.9       ]\n",
      "\n",
      "Recall:\n",
      " [0.33333333 0.9       ]\n",
      "\n",
      "F1 Score:\n",
      " [0.33333333 0.9       ]\n"
     ]
    }
   ],
   "source": [
    "DT_A2 = accuracy_score(y_test2, y_pred5)\n",
    "DT_P2 = precision_score(y_test2, y_pred5, average=None)\n",
    "DT_R2 = recall_score(y_test2, y_pred5, average=None)\n",
    "DT_F2 = f1_score(y_test2, y_pred5, average=None)\n",
    "\n",
    "print(\"\\nMatriz de Confusão:\\n\",confusion_matrix(y_test2, y_pred5))\n",
    "print(\"\\nAcuracia:\\n\", DT_A2)\n",
    "print(\"\\nPrecisão:\\n\", DT_P2)\n",
    "print(\"\\nRecall:\\n\", DT_R2)\n",
    "print(\"\\nF1 Score:\\n\", DT_F2)"
   ]
  },
  {
   "cell_type": "markdown",
   "id": "fe4d0017",
   "metadata": {},
   "source": [
    "<h2> SVM - Support Vector Machines </h2>\n",
    "\n",
    "<h3>Fase de Treinamento do Modelo</h3>"
   ]
  },
  {
   "cell_type": "code",
   "execution_count": 52,
   "id": "ee79fccd",
   "metadata": {},
   "outputs": [],
   "source": [
    "#1-Criando uma instancia do modelo\n",
    "svc2 = SVC(C=1000)\n",
    "\n",
    "#2-Treinando o modelo\n",
    "svc2.fit(x_train2, y_train2)\n",
    "\n",
    "#3-Calcular as métricas do modelo\n",
    "y_pred6 = svc2.predict(x_train2)"
   ]
  },
  {
   "cell_type": "code",
   "execution_count": 53,
   "id": "20bec679",
   "metadata": {},
   "outputs": [
    {
     "name": "stdout",
     "output_type": "stream",
     "text": [
      "\n",
      "Matriz de Confusão:\n",
      " [[11  5]\n",
      " [ 2 49]]\n",
      "\n",
      "Acuracia:\n",
      " 0.8955223880597015\n",
      "\n",
      "Precisão:\n",
      " [0.84615385 0.90740741]\n",
      "\n",
      "Recall:\n",
      " [0.6875     0.96078431]\n",
      "\n",
      "F1 Score:\n",
      " [0.75862069 0.93333333]\n"
     ]
    }
   ],
   "source": [
    "print(\"\\nMatriz de Confusão:\\n\",confusion_matrix(y_train2, y_pred6))\n",
    "print(\"\\nAcuracia:\\n\", accuracy_score(y_train2, y_pred6))\n",
    "print(\"\\nPrecisão:\\n\", precision_score(y_train2, y_pred6, average=None))\n",
    "print(\"\\nRecall:\\n\", recall_score(y_train2, y_pred6, average=None))\n",
    "print(\"\\nF1 Score:\\n\", f1_score(y_train2, y_pred6, average=None))"
   ]
  },
  {
   "cell_type": "markdown",
   "id": "3413b2d1",
   "metadata": {},
   "source": [
    "<h3>Fase de Teste do Modelo</h3>"
   ]
  },
  {
   "cell_type": "code",
   "execution_count": 54,
   "id": "5671c731",
   "metadata": {},
   "outputs": [],
   "source": [
    "y_pred6 = svc2.predict(x_test2)"
   ]
  },
  {
   "cell_type": "code",
   "execution_count": 55,
   "id": "ef442520",
   "metadata": {},
   "outputs": [
    {
     "name": "stdout",
     "output_type": "stream",
     "text": [
      "\n",
      "Matriz de Confusão:\n",
      " [[ 1  2]\n",
      " [ 2 18]]\n",
      "\n",
      "Acuracia:\n",
      " 0.8260869565217391\n",
      "\n",
      "Precisão:\n",
      " [0.33333333 0.9       ]\n",
      "\n",
      "Recall:\n",
      " [0.33333333 0.9       ]\n",
      "\n",
      "F1 Score:\n",
      " [0.33333333 0.9       ]\n"
     ]
    }
   ],
   "source": [
    "SVM_A2 = accuracy_score(y_test2, y_pred6)\n",
    "SVM_P2 = precision_score(y_test2, y_pred6, average=None)\n",
    "SVM_R2 = recall_score(y_test2, y_pred6, average=None)\n",
    "SVM_F2 = f1_score(y_test2, y_pred6, average=None)\n",
    "\n",
    "print(\"\\nMatriz de Confusão:\\n\",confusion_matrix(y_test2, y_pred6))\n",
    "print(\"\\nAcuracia:\\n\", SVM_A2)\n",
    "print(\"\\nPrecisão:\\n\", SVM_P2)\n",
    "print(\"\\nRecall:\\n\", SVM_R2)\n",
    "print(\"\\nF1 Score:\\n\", SVM_F2)"
   ]
  },
  {
   "cell_type": "markdown",
   "id": "75620d0b",
   "metadata": {},
   "source": [
    "<p>----------------------------------------------------------------------------------------------------------------------------------------------</p>\n",
    "<h1>ANÁLISE 3</h1>\n",
    "<h1>Fase de Análise</h1>"
   ]
  },
  {
   "cell_type": "markdown",
   "id": "c78c08ab",
   "metadata": {},
   "source": [
    "<h2>Seleção de Atributos</h2>\n",
    "\n",
    "<p>Nessa análise será feito um SMOTE para balenceamento artificial dos dados e verificação do resultado da aplicação dos algoritmos de classificação no novo conjunto</p>\n"
   ]
  },
  {
   "cell_type": "code",
   "execution_count": 56,
   "id": "71315bda",
   "metadata": {},
   "outputs": [
    {
     "data": {
      "text/html": [
       "<div>\n",
       "<style scoped>\n",
       "    .dataframe tbody tr th:only-of-type {\n",
       "        vertical-align: middle;\n",
       "    }\n",
       "\n",
       "    .dataframe tbody tr th {\n",
       "        vertical-align: top;\n",
       "    }\n",
       "\n",
       "    .dataframe thead th {\n",
       "        text-align: right;\n",
       "    }\n",
       "</style>\n",
       "<table border=\"1\" class=\"dataframe\">\n",
       "  <thead>\n",
       "    <tr style=\"text-align: right;\">\n",
       "      <th></th>\n",
       "      <th>age</th>\n",
       "      <th>Time</th>\n",
       "      <th>Type</th>\n",
       "      <th>Result_of_Treatment</th>\n",
       "    </tr>\n",
       "  </thead>\n",
       "  <tbody>\n",
       "    <tr>\n",
       "      <th>0</th>\n",
       "      <td>22</td>\n",
       "      <td>2.25</td>\n",
       "      <td>3</td>\n",
       "      <td>1</td>\n",
       "    </tr>\n",
       "    <tr>\n",
       "      <th>1</th>\n",
       "      <td>15</td>\n",
       "      <td>3.00</td>\n",
       "      <td>3</td>\n",
       "      <td>1</td>\n",
       "    </tr>\n",
       "    <tr>\n",
       "      <th>2</th>\n",
       "      <td>16</td>\n",
       "      <td>10.50</td>\n",
       "      <td>1</td>\n",
       "      <td>1</td>\n",
       "    </tr>\n",
       "    <tr>\n",
       "      <th>3</th>\n",
       "      <td>27</td>\n",
       "      <td>4.50</td>\n",
       "      <td>3</td>\n",
       "      <td>1</td>\n",
       "    </tr>\n",
       "    <tr>\n",
       "      <th>4</th>\n",
       "      <td>20</td>\n",
       "      <td>8.00</td>\n",
       "      <td>1</td>\n",
       "      <td>1</td>\n",
       "    </tr>\n",
       "    <tr>\n",
       "      <th>...</th>\n",
       "      <td>...</td>\n",
       "      <td>...</td>\n",
       "      <td>...</td>\n",
       "      <td>...</td>\n",
       "    </tr>\n",
       "    <tr>\n",
       "      <th>85</th>\n",
       "      <td>40</td>\n",
       "      <td>5.50</td>\n",
       "      <td>3</td>\n",
       "      <td>1</td>\n",
       "    </tr>\n",
       "    <tr>\n",
       "      <th>86</th>\n",
       "      <td>38</td>\n",
       "      <td>7.50</td>\n",
       "      <td>2</td>\n",
       "      <td>1</td>\n",
       "    </tr>\n",
       "    <tr>\n",
       "      <th>87</th>\n",
       "      <td>46</td>\n",
       "      <td>11.50</td>\n",
       "      <td>1</td>\n",
       "      <td>0</td>\n",
       "    </tr>\n",
       "    <tr>\n",
       "      <th>88</th>\n",
       "      <td>32</td>\n",
       "      <td>12.00</td>\n",
       "      <td>1</td>\n",
       "      <td>0</td>\n",
       "    </tr>\n",
       "    <tr>\n",
       "      <th>89</th>\n",
       "      <td>23</td>\n",
       "      <td>6.75</td>\n",
       "      <td>1</td>\n",
       "      <td>1</td>\n",
       "    </tr>\n",
       "  </tbody>\n",
       "</table>\n",
       "<p>90 rows × 4 columns</p>\n",
       "</div>"
      ],
      "text/plain": [
       "    age   Time  Type  Result_of_Treatment\n",
       "0    22   2.25     3                    1\n",
       "1    15   3.00     3                    1\n",
       "2    16  10.50     1                    1\n",
       "3    27   4.50     3                    1\n",
       "4    20   8.00     1                    1\n",
       "..  ...    ...   ...                  ...\n",
       "85   40   5.50     3                    1\n",
       "86   38   7.50     2                    1\n",
       "87   46  11.50     1                    0\n",
       "88   32  12.00     1                    0\n",
       "89   23   6.75     1                    1\n",
       "\n",
       "[90 rows x 4 columns]"
      ]
     },
     "execution_count": 56,
     "metadata": {},
     "output_type": "execute_result"
    }
   ],
   "source": [
    "df_selected3 = df[['age','Time','Type','Result_of_Treatment']]\n",
    "df_selected3"
   ]
  },
  {
   "cell_type": "code",
   "execution_count": 57,
   "id": "e07ecbd8",
   "metadata": {},
   "outputs": [],
   "source": [
    "from imblearn.over_sampling import RandomOverSampler, SMOTE"
   ]
  },
  {
   "cell_type": "code",
   "execution_count": 58,
   "id": "0375ef8e",
   "metadata": {},
   "outputs": [],
   "source": [
    "x3 = df_selected3.drop(['Result_of_Treatment'], axis=1)\n",
    "y3 = df_selected3['Result_of_Treatment']"
   ]
  },
  {
   "cell_type": "code",
   "execution_count": 59,
   "id": "92cd46e0",
   "metadata": {},
   "outputs": [],
   "source": [
    "#criar conjunto de teste e treino\n",
    "\n",
    "x_train3, x_test3, y_train3, y_test3 = train_test_split(x3,y3)"
   ]
  },
  {
   "cell_type": "code",
   "execution_count": 60,
   "id": "1e4aa19c",
   "metadata": {},
   "outputs": [],
   "source": [
    "#SMOTE\n",
    "smote = SMOTE(random_state = 42)\n",
    "x3_smo, y3_smo = smote.fit_resample(x_train3, y_train3)"
   ]
  },
  {
   "cell_type": "code",
   "execution_count": 61,
   "id": "3f33454c",
   "metadata": {},
   "outputs": [
    {
     "data": {
      "image/png": "[encoded data removed]",
      "text/plain": [
       "<Figure size 640x480 with 1 Axes>"
      ]
     },
     "metadata": {},
     "output_type": "display_data"
    }
   ],
   "source": [
    "Result_of_Treatment = y3_smo.value_counts().sort_index()\n",
    "Result_of_Treatment.plot.bar()\n",
    "plt.title(\"Result_of_Treatment\")\n",
    "plt.show()"
   ]
  },
  {
   "cell_type": "markdown",
   "id": "d1c33028",
   "metadata": {},
   "source": [
    "<h2>Escolha e Preparação do Modelo</h2>\n",
    "\n",
    "<h2>KNeighbors</h2>\n",
    "\n",
    "<h3>Fase de Treinamento do Modelo</h3>"
   ]
  },
  {
   "cell_type": "code",
   "execution_count": 62,
   "id": "b3da5c26",
   "metadata": {},
   "outputs": [],
   "source": [
    "#1-Criando uma instancia do modelo\n",
    "modelo3 = KNeighborsClassifier(3)\n",
    "\n",
    "#2-Treinando o modelo\n",
    "modelo3.fit(x3_smo, y3_smo)\n",
    "\n",
    "#3-Calcular as métricas do modelo\n",
    "y_pred7 = modelo3.predict(x3_smo)"
   ]
  },
  {
   "cell_type": "code",
   "execution_count": 63,
   "id": "fd9e0e49",
   "metadata": {},
   "outputs": [
    {
     "name": "stdout",
     "output_type": "stream",
     "text": [
      "\n",
      "Matriz de Confusão:\n",
      " [[48  5]\n",
      " [ 8 45]]\n",
      "\n",
      "Acuracia:\n",
      " 0.8773584905660378\n",
      "\n",
      "Precisão:\n",
      " [0.85714286 0.9       ]\n",
      "\n",
      "Recall:\n",
      " [0.90566038 0.8490566 ]\n",
      "\n",
      "F1 Score:\n",
      " [0.88073394 0.87378641]\n"
     ]
    }
   ],
   "source": [
    "print(\"\\nMatriz de Confusão:\\n\",confusion_matrix(y3_smo, y_pred7))\n",
    "print(\"\\nAcuracia:\\n\", accuracy_score(y3_smo, y_pred7))\n",
    "print(\"\\nPrecisão:\\n\", precision_score(y3_smo, y_pred7, average=None))\n",
    "print(\"\\nRecall:\\n\", recall_score(y3_smo, y_pred7, average=None))\n",
    "print(\"\\nF1 Score:\\n\", f1_score(y3_smo, y_pred7, average=None))"
   ]
  },
  {
   "cell_type": "markdown",
   "id": "0edb7bb8",
   "metadata": {},
   "source": [
    "<h3>Fase de Teste do Modelo</h3>"
   ]
  },
  {
   "cell_type": "code",
   "execution_count": 64,
   "id": "ec529ceb",
   "metadata": {},
   "outputs": [],
   "source": [
    "#prever com os valores do dataset de teste\n",
    "y_pred7 = modelo3.predict(x_test3)"
   ]
  },
  {
   "cell_type": "code",
   "execution_count": 65,
   "id": "671ed2b0",
   "metadata": {},
   "outputs": [
    {
     "name": "stdout",
     "output_type": "stream",
     "text": [
      "\n",
      "Matriz de Confusão:\n",
      " [[ 3  2]\n",
      " [ 5 13]]\n",
      "\n",
      "Acuracia:\n",
      " 0.6956521739130435\n",
      "\n",
      "Precisão:\n",
      " [0.375      0.86666667]\n",
      "\n",
      "Recall:\n",
      " [0.6        0.72222222]\n",
      "\n",
      "F1 Score:\n",
      " [0.46153846 0.78787879]\n"
     ]
    }
   ],
   "source": [
    "KNN_A3 = accuracy_score(y_test3, y_pred7)\n",
    "KNN_P3 = precision_score(y_test3, y_pred7, average=None)\n",
    "KNN_R3 = recall_score(y_test3, y_pred7, average=None)\n",
    "KNN_F3 = f1_score(y_test3, y_pred7, average=None)\n",
    "\n",
    "print(\"\\nMatriz de Confusão:\\n\",confusion_matrix(y_test3, y_pred7))\n",
    "print(\"\\nAcuracia:\\n\", KNN_A3)\n",
    "print(\"\\nPrecisão:\\n\", KNN_P3)\n",
    "print(\"\\nRecall:\\n\", KNN_R3)\n",
    "print(\"\\nF1 Score:\\n\", KNN_F3)"
   ]
  },
  {
   "cell_type": "markdown",
   "id": "ffca5592",
   "metadata": {},
   "source": [
    "<h2>Decision Tree</h2>\n",
    "\n",
    "<h3>Fase de Treinamento do Modelo</h3>"
   ]
  },
  {
   "cell_type": "code",
   "execution_count": 66,
   "id": "d005bc69",
   "metadata": {},
   "outputs": [],
   "source": [
    "#1-Criando uma instancia do modelo\n",
    "arvore3 = DecisionTreeClassifier()\n",
    "\n",
    "#2-Treinando o modelo\n",
    "arvore3.fit(x3_smo, y3_smo)\n",
    "\n",
    "#3-Calcular as métricas do modelo\n",
    "y_pred8 = arvore3.predict(x3_smo)"
   ]
  },
  {
   "cell_type": "code",
   "execution_count": 67,
   "id": "08c8b9fb",
   "metadata": {},
   "outputs": [
    {
     "name": "stdout",
     "output_type": "stream",
     "text": [
      "\n",
      "Matriz de Confusão:\n",
      " [[53  0]\n",
      " [ 0 53]]\n",
      "\n",
      "Acuracia:\n",
      " 1.0\n",
      "\n",
      "Precisão:\n",
      " [1. 1.]\n",
      "\n",
      "Recall:\n",
      " [1. 1.]\n",
      "\n",
      "F1 Score:\n",
      " [1. 1.]\n"
     ]
    }
   ],
   "source": [
    "print(\"\\nMatriz de Confusão:\\n\", confusion_matrix(y3_smo, y_pred8))\n",
    "print(\"\\nAcuracia:\\n\", accuracy_score(y3_smo, y_pred8))\n",
    "print(\"\\nPrecisão:\\n\", precision_score(y3_smo, y_pred8, average=None))\n",
    "print(\"\\nRecall:\\n\", recall_score(y3_smo, y_pred8, average=None))\n",
    "print(\"\\nF1 Score:\\n\", f1_score(y3_smo, y_pred8, average=None))"
   ]
  },
  {
   "cell_type": "markdown",
   "id": "f1d5167f",
   "metadata": {},
   "source": [
    "<h3>Fase de Teste do Modelo</h3>"
   ]
  },
  {
   "cell_type": "code",
   "execution_count": 68,
   "id": "48167d0c",
   "metadata": {},
   "outputs": [],
   "source": [
    "#prever com os valores do dataset de teste\n",
    "y_pred8 = arvore3.predict(x_test3)"
   ]
  },
  {
   "cell_type": "code",
   "execution_count": 69,
   "id": "4b559a45",
   "metadata": {},
   "outputs": [
    {
     "name": "stdout",
     "output_type": "stream",
     "text": [
      "\n",
      "Matriz de Confusão:\n",
      " [[ 3  2]\n",
      " [ 3 15]]\n",
      "\n",
      "Acuracia:\n",
      " 0.782608695652174\n",
      "\n",
      "Precisão:\n",
      " [0.5        0.88235294]\n",
      "\n",
      "Recall:\n",
      " [0.6        0.83333333]\n",
      "\n",
      "F1 Score:\n",
      " [0.54545455 0.85714286]\n"
     ]
    }
   ],
   "source": [
    "DT_A3 = accuracy_score(y_test3, y_pred8)\n",
    "DT_P3 = precision_score(y_test3, y_pred8, average=None)\n",
    "DT_R3 = recall_score(y_test3, y_pred8, average=None)\n",
    "DT_F3 = f1_score(y_test3, y_pred8, average=None)\n",
    "\n",
    "print(\"\\nMatriz de Confusão:\\n\", confusion_matrix(y_test3, y_pred8))\n",
    "print(\"\\nAcuracia:\\n\", DT_A3)\n",
    "print(\"\\nPrecisão:\\n\", DT_P3)\n",
    "print(\"\\nRecall:\\n\", DT_R3)\n",
    "print(\"\\nF1 Score:\\n\", DT_F3)"
   ]
  },
  {
   "cell_type": "markdown",
   "id": "e8d5f602",
   "metadata": {},
   "source": [
    "<h2> SVM - Support Vector Machines </h2>\n",
    "\n",
    "<h3>Fase de Treinamento do Modelo</h3>"
   ]
  },
  {
   "cell_type": "code",
   "execution_count": 70,
   "id": "9254cd23",
   "metadata": {},
   "outputs": [],
   "source": [
    "#1-Criando uma instancia do modelo\n",
    "svc3 = SVC(C=1000)\n",
    "\n",
    "#2-Treinando o modelo\n",
    "svc3.fit(x3_smo, y3_smo)\n",
    "\n",
    "#3-Calcular as métricas do modelo\n",
    "y_pred9 = svc3.predict(x3_smo)"
   ]
  },
  {
   "cell_type": "code",
   "execution_count": 71,
   "id": "9eed1ae7",
   "metadata": {},
   "outputs": [
    {
     "name": "stdout",
     "output_type": "stream",
     "text": [
      "\n",
      "Matriz de Confusão:\n",
      " [[46  7]\n",
      " [ 8 45]]\n",
      "\n",
      "Acuracia:\n",
      " 0.8584905660377359\n",
      "\n",
      "Precisão:\n",
      " [0.85185185 0.86538462]\n",
      "\n",
      "Recall:\n",
      " [0.86792453 0.8490566 ]\n",
      "\n",
      "F1 Score:\n",
      " [0.85981308 0.85714286]\n"
     ]
    }
   ],
   "source": [
    "print(\"\\nMatriz de Confusão:\\n\",confusion_matrix(y3_smo, y_pred9))\n",
    "print(\"\\nAcuracia:\\n\", accuracy_score(y3_smo, y_pred9))\n",
    "print(\"\\nPrecisão:\\n\", precision_score(y3_smo, y_pred9, average=None))\n",
    "print(\"\\nRecall:\\n\", recall_score(y3_smo, y_pred9, average=None))\n",
    "print(\"\\nF1 Score:\\n\", f1_score(y3_smo, y_pred9, average=None))"
   ]
  },
  {
   "cell_type": "markdown",
   "id": "1a39458e",
   "metadata": {},
   "source": [
    "<h3>Fase de Teste do Modelo</h3>"
   ]
  },
  {
   "cell_type": "code",
   "execution_count": 72,
   "id": "d13b61b8",
   "metadata": {},
   "outputs": [],
   "source": [
    "#prever com os valores do dataset de teste\n",
    "y_pred9 = svc3.predict(x_test3)"
   ]
  },
  {
   "cell_type": "code",
   "execution_count": 73,
   "id": "83d58aa3",
   "metadata": {},
   "outputs": [
    {
     "name": "stdout",
     "output_type": "stream",
     "text": [
      "\n",
      "Matriz de Confusão:\n",
      " [[ 3  2]\n",
      " [ 2 16]]\n",
      "\n",
      "Acuracia:\n",
      " 0.8260869565217391\n",
      "\n",
      "Precisão:\n",
      " [0.6        0.88888889]\n",
      "\n",
      "Recall:\n",
      " [0.6        0.88888889]\n",
      "\n",
      "F1 Score:\n",
      " [0.6        0.88888889]\n"
     ]
    }
   ],
   "source": [
    "SVM_A3 = accuracy_score(y_test3, y_pred9)\n",
    "SVM_P3 = precision_score(y_test3, y_pred9, average=None)\n",
    "SVM_R3 = recall_score(y_test3, y_pred9, average=None)\n",
    "SVM_F3 = f1_score(y_test3, y_pred9, average=None)\n",
    "\n",
    "print(\"\\nMatriz de Confusão:\\n\",confusion_matrix(y_test3, y_pred9))\n",
    "print(\"\\nAcuracia:\\n\", SVM_A3)\n",
    "print(\"\\nPrecisão:\\n\", SVM_P3)\n",
    "print(\"\\nRecall:\\n\", SVM_R3)\n",
    "print(\"\\nF1 Score:\\n\", SVM_F3)"
   ]
  },
  {
   "cell_type": "markdown",
   "id": "d4002da6",
   "metadata": {},
   "source": [
    "<h1>Fase de Conlusão</h1>"
   ]
  },
  {
   "cell_type": "markdown",
   "id": "e65ef3d4",
   "metadata": {},
   "source": [
    "<h2>Comparação dos Resultados</h2>\n",
    "\n",
    "<h3>Resultados KNN</h3>"
   ]
  },
  {
   "cell_type": "code",
   "execution_count": 74,
   "id": "34854c3a",
   "metadata": {},
   "outputs": [
    {
     "data": {
      "text/html": [
       "<div>\n",
       "<style scoped>\n",
       "    .dataframe tbody tr th:only-of-type {\n",
       "        vertical-align: middle;\n",
       "    }\n",
       "\n",
       "    .dataframe tbody tr th {\n",
       "        vertical-align: top;\n",
       "    }\n",
       "\n",
       "    .dataframe thead th {\n",
       "        text-align: right;\n",
       "    }\n",
       "</style>\n",
       "<table border=\"1\" class=\"dataframe\">\n",
       "  <thead>\n",
       "    <tr style=\"text-align: right;\">\n",
       "      <th></th>\n",
       "      <th>ANALISE 1</th>\n",
       "      <th>ANÁLISE 2</th>\n",
       "      <th>ANÁLISE 3</th>\n",
       "    </tr>\n",
       "  </thead>\n",
       "  <tbody>\n",
       "    <tr>\n",
       "      <th>ACURACIA</th>\n",
       "      <td>0.73913</td>\n",
       "      <td>0.826087</td>\n",
       "      <td>0.695652</td>\n",
       "    </tr>\n",
       "    <tr>\n",
       "      <th>PRECISAO</th>\n",
       "      <td>[1.0, 0.7272727272727273]</td>\n",
       "      <td>[0.0, 0.8636363636363636]</td>\n",
       "      <td>[0.375, 0.8666666666666667]</td>\n",
       "    </tr>\n",
       "    <tr>\n",
       "      <th>RECALL</th>\n",
       "      <td>[0.14285714285714285, 1.0]</td>\n",
       "      <td>[0.0, 0.95]</td>\n",
       "      <td>[0.6, 0.7222222222222222]</td>\n",
       "    </tr>\n",
       "    <tr>\n",
       "      <th>F1 SCORE</th>\n",
       "      <td>[0.25, 0.8421052631578948]</td>\n",
       "      <td>[0.0, 0.9047619047619048]</td>\n",
       "      <td>[0.4615384615384615, 0.7878787878787877]</td>\n",
       "    </tr>\n",
       "  </tbody>\n",
       "</table>\n",
       "</div>"
      ],
      "text/plain": [
       "                           ANALISE 1                  ANÁLISE 2  \\\n",
       "ACURACIA                     0.73913                   0.826087   \n",
       "PRECISAO   [1.0, 0.7272727272727273]  [0.0, 0.8636363636363636]   \n",
       "RECALL    [0.14285714285714285, 1.0]                [0.0, 0.95]   \n",
       "F1 SCORE  [0.25, 0.8421052631578948]  [0.0, 0.9047619047619048]   \n",
       "\n",
       "                                         ANÁLISE 3  \n",
       "ACURACIA                                  0.695652  \n",
       "PRECISAO               [0.375, 0.8666666666666667]  \n",
       "RECALL                   [0.6, 0.7222222222222222]  \n",
       "F1 SCORE  [0.4615384615384615, 0.7878787878787877]  "
      ]
     },
     "execution_count": 74,
     "metadata": {},
     "output_type": "execute_result"
    }
   ],
   "source": [
    "data_knn = {'ANALISE 1': [KNN_A1, KNN_P1, KNN_R1, KNN_F1], 'ANÁLISE 2': [KNN_A2, KNN_P2, KNN_R2, KNN_F2], 'ANÁLISE 3': [KNN_A3, KNN_P3, KNN_R3, KNN_F3]}\n",
    "\n",
    "knn_df = pd.DataFrame(data= data_knn, index=[\"ACURACIA\", \"PRECISAO\", \"RECALL\", \"F1 SCORE\"])\n",
    "\n",
    "knn_df"
   ]
  },
  {
   "cell_type": "markdown",
   "id": "d8aa1149",
   "metadata": {},
   "source": [
    "<h3>Resultados Decision Tree</h3>"
   ]
  },
  {
   "cell_type": "code",
   "execution_count": 75,
   "id": "677dd1f3",
   "metadata": {},
   "outputs": [
    {
     "data": {
      "text/html": [
       "<div>\n",
       "<style scoped>\n",
       "    .dataframe tbody tr th:only-of-type {\n",
       "        vertical-align: middle;\n",
       "    }\n",
       "\n",
       "    .dataframe tbody tr th {\n",
       "        vertical-align: top;\n",
       "    }\n",
       "\n",
       "    .dataframe thead th {\n",
       "        text-align: right;\n",
       "    }\n",
       "</style>\n",
       "<table border=\"1\" class=\"dataframe\">\n",
       "  <thead>\n",
       "    <tr style=\"text-align: right;\">\n",
       "      <th></th>\n",
       "      <th>ANALISE 1</th>\n",
       "      <th>ANÁLISE 2</th>\n",
       "      <th>ANÁLISE 3</th>\n",
       "    </tr>\n",
       "  </thead>\n",
       "  <tbody>\n",
       "    <tr>\n",
       "      <th>ACURACIA</th>\n",
       "      <td>0.608696</td>\n",
       "      <td>0.826087</td>\n",
       "      <td>0.782609</td>\n",
       "    </tr>\n",
       "    <tr>\n",
       "      <th>PRECISAO</th>\n",
       "      <td>[0.25, 0.6842105263157895]</td>\n",
       "      <td>[0.3333333333333333, 0.9]</td>\n",
       "      <td>[0.5, 0.8823529411764706]</td>\n",
       "    </tr>\n",
       "    <tr>\n",
       "      <th>RECALL</th>\n",
       "      <td>[0.14285714285714285, 0.8125]</td>\n",
       "      <td>[0.3333333333333333, 0.9]</td>\n",
       "      <td>[0.6, 0.8333333333333334]</td>\n",
       "    </tr>\n",
       "    <tr>\n",
       "      <th>F1 SCORE</th>\n",
       "      <td>[0.18181818181818182, 0.742857142857143]</td>\n",
       "      <td>[0.3333333333333333, 0.9]</td>\n",
       "      <td>[0.5454545454545454, 0.8571428571428571]</td>\n",
       "    </tr>\n",
       "  </tbody>\n",
       "</table>\n",
       "</div>"
      ],
      "text/plain": [
       "                                         ANALISE 1                  ANÁLISE 2  \\\n",
       "ACURACIA                                  0.608696                   0.826087   \n",
       "PRECISAO                [0.25, 0.6842105263157895]  [0.3333333333333333, 0.9]   \n",
       "RECALL               [0.14285714285714285, 0.8125]  [0.3333333333333333, 0.9]   \n",
       "F1 SCORE  [0.18181818181818182, 0.742857142857143]  [0.3333333333333333, 0.9]   \n",
       "\n",
       "                                         ANÁLISE 3  \n",
       "ACURACIA                                  0.782609  \n",
       "PRECISAO                 [0.5, 0.8823529411764706]  \n",
       "RECALL                   [0.6, 0.8333333333333334]  \n",
       "F1 SCORE  [0.5454545454545454, 0.8571428571428571]  "
      ]
     },
     "execution_count": 75,
     "metadata": {},
     "output_type": "execute_result"
    }
   ],
   "source": [
    "data_dt = {'ANALISE 1': [DT_A1, DT_P1, DT_R1, DT_F1], 'ANÁLISE 2': [DT_A2, DT_P2, DT_R2, DT_F2], 'ANÁLISE 3': [DT_A3, DT_P3, DT_R3, DT_F3]}\n",
    "\n",
    "dt_df = pd.DataFrame(data= data_dt, index=[\"ACURACIA\", \"PRECISAO\", \"RECALL\", \"F1 SCORE\"])\n",
    "\n",
    "dt_df"
   ]
  },
  {
   "cell_type": "markdown",
   "id": "ccfd74b7",
   "metadata": {},
   "source": [
    "<h3>Resultados SVM</h3>"
   ]
  },
  {
   "cell_type": "code",
   "execution_count": 76,
   "id": "f98a76a9",
   "metadata": {},
   "outputs": [
    {
     "data": {
      "text/html": [
       "<div>\n",
       "<style scoped>\n",
       "    .dataframe tbody tr th:only-of-type {\n",
       "        vertical-align: middle;\n",
       "    }\n",
       "\n",
       "    .dataframe tbody tr th {\n",
       "        vertical-align: top;\n",
       "    }\n",
       "\n",
       "    .dataframe thead th {\n",
       "        text-align: right;\n",
       "    }\n",
       "</style>\n",
       "<table border=\"1\" class=\"dataframe\">\n",
       "  <thead>\n",
       "    <tr style=\"text-align: right;\">\n",
       "      <th></th>\n",
       "      <th>ANALISE 1</th>\n",
       "      <th>ANÁLISE 2</th>\n",
       "      <th>ANÁLISE 3</th>\n",
       "    </tr>\n",
       "  </thead>\n",
       "  <tbody>\n",
       "    <tr>\n",
       "      <th>ACURACIA</th>\n",
       "      <td>0.652174</td>\n",
       "      <td>0.826087</td>\n",
       "      <td>0.826087</td>\n",
       "    </tr>\n",
       "    <tr>\n",
       "      <th>PRECISAO</th>\n",
       "      <td>[0.4, 0.7222222222222222]</td>\n",
       "      <td>[0.3333333333333333, 0.9]</td>\n",
       "      <td>[0.6, 0.8888888888888888]</td>\n",
       "    </tr>\n",
       "    <tr>\n",
       "      <th>RECALL</th>\n",
       "      <td>[0.2857142857142857, 0.8125]</td>\n",
       "      <td>[0.3333333333333333, 0.9]</td>\n",
       "      <td>[0.6, 0.8888888888888888]</td>\n",
       "    </tr>\n",
       "    <tr>\n",
       "      <th>F1 SCORE</th>\n",
       "      <td>[0.3333333333333333, 0.7647058823529411]</td>\n",
       "      <td>[0.3333333333333333, 0.9]</td>\n",
       "      <td>[0.6, 0.8888888888888888]</td>\n",
       "    </tr>\n",
       "  </tbody>\n",
       "</table>\n",
       "</div>"
      ],
      "text/plain": [
       "                                         ANALISE 1                  ANÁLISE 2  \\\n",
       "ACURACIA                                  0.652174                   0.826087   \n",
       "PRECISAO                 [0.4, 0.7222222222222222]  [0.3333333333333333, 0.9]   \n",
       "RECALL                [0.2857142857142857, 0.8125]  [0.3333333333333333, 0.9]   \n",
       "F1 SCORE  [0.3333333333333333, 0.7647058823529411]  [0.3333333333333333, 0.9]   \n",
       "\n",
       "                          ANÁLISE 3  \n",
       "ACURACIA                   0.826087  \n",
       "PRECISAO  [0.6, 0.8888888888888888]  \n",
       "RECALL    [0.6, 0.8888888888888888]  \n",
       "F1 SCORE  [0.6, 0.8888888888888888]  "
      ]
     },
     "execution_count": 76,
     "metadata": {},
     "output_type": "execute_result"
    }
   ],
   "source": [
    "data_svm = {'ANALISE 1': [SVM_A1, SVM_P1, SVM_R1, SVM_F1], 'ANÁLISE 2': [SVM_A2, SVM_P2, SVM_R2, SVM_F2], 'ANÁLISE 3': [SVM_A3, SVM_P3, SVM_R3, SVM_F3]}\n",
    "\n",
    "svm_df = pd.DataFrame(data= data_svm, index=[\"ACURACIA\", \"PRECISAO\", \"RECALL\", \"F1 SCORE\"])\n",
    "\n",
    "svm_df"
   ]
  },
  {
   "cell_type": "markdown",
   "id": "c9c21133",
   "metadata": {},
   "source": [
    "<h3>Conclusão Geral</h3>\n",
    "\n",
    "<p>Com base nos estudos acima, podemos extrair que mesmo com um conjunto de dados relativamente pequeno, o que pode impactar diretamento nos resultados dos testes, foi possivel obter uma acurácia de até 95% nas previsões obtidas pelos modelos aplicados. O estudo realmente seria de grande utilizade na previsão de resultados de tratamento na área médica e o machine learning pode contribuir muito com o avanço da medicina.</p>\n",
    "<p>Deve-se verificar quais variaveis realmente tem algum impacto sobre o resultado final, em uma das análises que fizemos, vimos que a adição de variáveis que não tem boa correlação com o resultado final, não tem impacto positivo e podem até mesmo atrapalhar o processo de aprendizagem de máquina.</p>\n",
    "<p>Observou-se também que o modelo de classificação SVM obteve os resultados melhores em todos conjuntos estudados em nossa análise</p>\n",
    "<p>Por conta do desbalanceamento dos dados no dataset original estar muito grande, os dados analisados após o balanceamento por SMOTE não são confiáveis, foram observadas variações de mais de 20% nas métricas quando o código foi executado novamente</p>\n",
    "<p>Observou-se uma proximidade nas metricas das analises 1 e 2, onde foram apenas adicionados alguns atributos que possuiam baixa correlação com o resultado do tratamento</p>\n",
    "<p>Para que pudesse ser obtido uma acertividade mais alta no modelo, poderiam ser coletados maior quantidade de instancias e alguns atributos poderiam ser deixados de lado, uma vez que não apresentaram impacto no resultado final<p>\n"
   ]
  },
  {
   "cell_type": "code",
   "execution_count": null,
   "id": "9a17aa03",
   "metadata": {},
   "outputs": [],
   "source": []
  }
 ],
 "metadata": {
  "kernelspec": {
   "display_name": "Python 3 (ipykernel)",
   "language": "python",
   "name": "python3"
  },
  "language_info": {
   "codemirror_mode": {
    "name": "ipython",
    "version": 3
   },
   "file_extension": ".py",
   "mimetype": "text/x-python",
   "name": "python",
   "nbconvert_exporter": "python",
   "pygments_lexer": "ipython3",
   "version": "3.11.4"
  }
 },
 "nbformat": 4,
 "nbformat_minor": 5
}
